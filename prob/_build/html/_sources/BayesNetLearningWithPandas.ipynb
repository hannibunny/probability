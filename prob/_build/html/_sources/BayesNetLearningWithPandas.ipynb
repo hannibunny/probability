{
 "cells": [
  {
   "cell_type": "markdown",
   "metadata": {},
   "source": [
    "# Learn CPTs of Bayesian Netork"
   ]
  },
  {
   "cell_type": "code",
   "execution_count": 47,
   "metadata": {
    "ExecuteTime": {
     "end_time": "2019-02-25T16:09:48.518018Z",
     "start_time": "2019-02-25T16:09:48.332299Z"
    },
    "execution": {
     "iopub.execute_input": "2021-04-02T20:30:41.092604Z",
     "iopub.status.busy": "2021-04-02T20:30:41.092604Z",
     "iopub.status.idle": "2021-04-02T20:30:41.436603Z",
     "shell.execute_reply": "2021-04-02T20:30:41.435602Z",
     "shell.execute_reply.started": "2021-04-02T20:30:41.092604Z"
    }
   },
   "outputs": [],
   "source": [
    "%matplotlib inline\n",
    "from pylab import *\n",
    "import matplotlib.pyplot as plt\n",
    "\n",
    "import os"
   ]
  },
  {
   "cell_type": "code",
   "execution_count": 48,
   "metadata": {
    "ExecuteTime": {
     "end_time": "2019-02-25T16:09:48.526667Z",
     "start_time": "2019-02-25T16:09:48.519913Z"
    },
    "execution": {
     "iopub.execute_input": "2021-04-02T20:30:41.439603Z",
     "iopub.status.busy": "2021-04-02T20:30:41.438604Z",
     "iopub.status.idle": "2021-04-02T20:30:41.514603Z",
     "shell.execute_reply": "2021-04-02T20:30:41.513602Z",
     "shell.execute_reply.started": "2021-04-02T20:30:41.439603Z"
    }
   },
   "outputs": [],
   "source": [
    "import pyAgrum as gum\n",
    "import pyAgrum.lib.notebook as gnb"
   ]
  },
  {
   "cell_type": "markdown",
   "metadata": {},
   "source": [
    "## Loading two BNs"
   ]
  },
  {
   "cell_type": "code",
   "execution_count": 49,
   "metadata": {
    "ExecuteTime": {
     "end_time": "2019-02-25T16:09:53.158026Z",
     "start_time": "2019-02-25T16:09:48.529386Z"
    },
    "execution": {
     "iopub.execute_input": "2021-04-02T20:30:41.516604Z",
     "iopub.status.busy": "2021-04-02T20:30:41.516604Z",
     "iopub.status.idle": "2021-04-02T20:30:41.715602Z",
     "shell.execute_reply": "2021-04-02T20:30:41.715602Z",
     "shell.execute_reply.started": "2021-04-02T20:30:41.516604Z"
    }
   },
   "outputs": [
    {
     "data": {
      "text/html": [
       "<table style=\"border-style: hidden; border-collapse: collapse;\" width=\"100%\"><tr><td style=\"border-top:hidden;border-bottom:hidden;\"><div align=\"center\" style=\"\"><svg xmlns=\"http://www.w3.org/2000/svg\" xmlns:xlink=\"http://www.w3.org/1999/xlink\" width=\"189pt\" height=\"260pt\" viewBox=\"0.00 0.00 189.00 260.00\">\n",
       "<g id=\"graph0\" class=\"graph\" transform=\"scale(1 1) rotate(0) translate(4 256)\">\n",
       "<title>G</title>\n",
       "<!-- A -->\n",
       "<g id=\"node1\" class=\"node\">\n",
       "<title>A</title>\n",
       "<g id=\"a_node1\"><a xlink:title=\"(0) A\">\n",
       "<ellipse fill=\"#404040\" stroke=\"black\" cx=\"27\" cy=\"-234\" rx=\"27\" ry=\"18\"/>\n",
       "<text text-anchor=\"middle\" x=\"27\" y=\"-229.8\" font-family=\"Times,serif\" font-size=\"14.00\" fill=\"white\">A</text>\n",
       "</a>\n",
       "</g>\n",
       "</g>\n",
       "<!-- T -->\n",
       "<g id=\"node2\" class=\"node\">\n",
       "<title>T</title>\n",
       "<g id=\"a_node2\"><a xlink:title=\"(2) T\">\n",
       "<ellipse fill=\"#404040\" stroke=\"black\" cx=\"27\" cy=\"-162\" rx=\"27\" ry=\"18\"/>\n",
       "<text text-anchor=\"middle\" x=\"27\" y=\"-157.8\" font-family=\"Times,serif\" font-size=\"14.00\" fill=\"white\">T</text>\n",
       "</a>\n",
       "</g>\n",
       "</g>\n",
       "<!-- A&#45;&gt;T -->\n",
       "<g id=\"edge4\" class=\"edge\">\n",
       "<title>A-&gt;T</title>\n",
       "<g id=\"a_edge4\"><a xlink:title=\"(0, 2) : \">\n",
       "<path fill=\"none\" stroke=\"#4a4a4a\" d=\"M27,-215.7C27,-207.98 27,-198.71 27,-190.11\"/>\n",
       "<polygon fill=\"#4a4a4a\" stroke=\"#4a4a4a\" points=\"30.5,-190.1 27,-180.1 23.5,-190.1 30.5,-190.1\"/>\n",
       "</a>\n",
       "</g>\n",
       "</g>\n",
       "<!-- E -->\n",
       "<g id=\"node4\" class=\"node\">\n",
       "<title>E</title>\n",
       "<g id=\"a_node4\"><a xlink:title=\"(5) E\">\n",
       "<ellipse fill=\"#404040\" stroke=\"black\" cx=\"82\" cy=\"-90\" rx=\"27\" ry=\"18\"/>\n",
       "<text text-anchor=\"middle\" x=\"82\" y=\"-85.8\" font-family=\"Times,serif\" font-size=\"14.00\" fill=\"white\">E</text>\n",
       "</a>\n",
       "</g>\n",
       "</g>\n",
       "<!-- T&#45;&gt;E -->\n",
       "<g id=\"edge6\" class=\"edge\">\n",
       "<title>T-&gt;E</title>\n",
       "<g id=\"a_edge6\"><a xlink:title=\"(2, 5) : \">\n",
       "<path fill=\"none\" stroke=\"#4a4a4a\" d=\"M38.93,-145.81C46.21,-136.55 55.66,-124.52 63.85,-114.09\"/>\n",
       "<polygon fill=\"#4a4a4a\" stroke=\"#4a4a4a\" points=\"66.66,-116.18 70.09,-106.16 61.16,-111.86 66.66,-116.18\"/>\n",
       "</a>\n",
       "</g>\n",
       "</g>\n",
       "<!-- B -->\n",
       "<g id=\"node3\" class=\"node\">\n",
       "<title>B</title>\n",
       "<g id=\"a_node3\"><a xlink:title=\"(4) B\">\n",
       "<ellipse fill=\"#404040\" stroke=\"black\" cx=\"154\" cy=\"-90\" rx=\"27\" ry=\"18\"/>\n",
       "<text text-anchor=\"middle\" x=\"154\" y=\"-85.8\" font-family=\"Times,serif\" font-size=\"14.00\" fill=\"white\">B</text>\n",
       "</a>\n",
       "</g>\n",
       "</g>\n",
       "<!-- D -->\n",
       "<g id=\"node5\" class=\"node\">\n",
       "<title>D</title>\n",
       "<g id=\"a_node5\"><a xlink:title=\"(6) D\">\n",
       "<ellipse fill=\"#404040\" stroke=\"black\" cx=\"154\" cy=\"-18\" rx=\"27\" ry=\"18\"/>\n",
       "<text text-anchor=\"middle\" x=\"154\" y=\"-13.8\" font-family=\"Times,serif\" font-size=\"14.00\" fill=\"white\">D</text>\n",
       "</a>\n",
       "</g>\n",
       "</g>\n",
       "<!-- B&#45;&gt;D -->\n",
       "<g id=\"edge1\" class=\"edge\">\n",
       "<title>B-&gt;D</title>\n",
       "<g id=\"a_edge1\"><a xlink:title=\"(4, 6) : \">\n",
       "<path fill=\"none\" stroke=\"#4a4a4a\" d=\"M154,-71.7C154,-63.98 154,-54.71 154,-46.11\"/>\n",
       "<polygon fill=\"#4a4a4a\" stroke=\"#4a4a4a\" points=\"157.5,-46.1 154,-36.1 150.5,-46.1 157.5,-46.1\"/>\n",
       "</a>\n",
       "</g>\n",
       "</g>\n",
       "<!-- E&#45;&gt;D -->\n",
       "<g id=\"edge5\" class=\"edge\">\n",
       "<title>E-&gt;D</title>\n",
       "<g id=\"a_edge5\"><a xlink:title=\"(5, 6) : \">\n",
       "<path fill=\"none\" stroke=\"#4a4a4a\" d=\"M96.57,-74.83C106.75,-64.94 120.52,-51.55 132.03,-40.36\"/>\n",
       "<polygon fill=\"#4a4a4a\" stroke=\"#4a4a4a\" points=\"134.47,-42.87 139.2,-33.38 129.59,-37.85 134.47,-42.87\"/>\n",
       "</a>\n",
       "</g>\n",
       "</g>\n",
       "<!-- X -->\n",
       "<g id=\"node6\" class=\"node\">\n",
       "<title>X</title>\n",
       "<g id=\"a_node6\"><a xlink:title=\"(7) X\">\n",
       "<ellipse fill=\"#404040\" stroke=\"black\" cx=\"82\" cy=\"-18\" rx=\"27\" ry=\"18\"/>\n",
       "<text text-anchor=\"middle\" x=\"82\" y=\"-13.8\" font-family=\"Times,serif\" font-size=\"14.00\" fill=\"white\">X</text>\n",
       "</a>\n",
       "</g>\n",
       "</g>\n",
       "<!-- E&#45;&gt;X -->\n",
       "<g id=\"edge2\" class=\"edge\">\n",
       "<title>E-&gt;X</title>\n",
       "<g id=\"a_edge2\"><a xlink:title=\"(5, 7) : \">\n",
       "<path fill=\"none\" stroke=\"#4a4a4a\" d=\"M82,-71.7C82,-63.98 82,-54.71 82,-46.11\"/>\n",
       "<polygon fill=\"#4a4a4a\" stroke=\"#4a4a4a\" points=\"85.5,-46.1 82,-36.1 78.5,-46.1 85.5,-46.1\"/>\n",
       "</a>\n",
       "</g>\n",
       "</g>\n",
       "<!-- S -->\n",
       "<g id=\"node7\" class=\"node\">\n",
       "<title>S</title>\n",
       "<g id=\"a_node7\"><a xlink:title=\"(1) S\">\n",
       "<ellipse fill=\"#404040\" stroke=\"black\" cx=\"126\" cy=\"-234\" rx=\"27\" ry=\"18\"/>\n",
       "<text text-anchor=\"middle\" x=\"126\" y=\"-229.8\" font-family=\"Times,serif\" font-size=\"14.00\" fill=\"white\">S</text>\n",
       "</a>\n",
       "</g>\n",
       "</g>\n",
       "<!-- S&#45;&gt;B -->\n",
       "<g id=\"edge3\" class=\"edge\">\n",
       "<title>S-&gt;B</title>\n",
       "<g id=\"a_edge3\"><a xlink:title=\"(1, 4) : \">\n",
       "<path fill=\"none\" stroke=\"#4a4a4a\" d=\"M129.38,-215.87C134.17,-191.56 142.99,-146.82 148.67,-118.01\"/>\n",
       "<polygon fill=\"#4a4a4a\" stroke=\"#4a4a4a\" points=\"152.11,-118.68 150.61,-108.19 145.24,-117.32 152.11,-118.68\"/>\n",
       "</a>\n",
       "</g>\n",
       "</g>\n",
       "<!-- L -->\n",
       "<g id=\"node8\" class=\"node\">\n",
       "<title>L</title>\n",
       "<g id=\"a_node8\"><a xlink:title=\"(3) L\">\n",
       "<ellipse fill=\"#404040\" stroke=\"black\" cx=\"99\" cy=\"-162\" rx=\"27\" ry=\"18\"/>\n",
       "<text text-anchor=\"middle\" x=\"99\" y=\"-157.8\" font-family=\"Times,serif\" font-size=\"14.00\" fill=\"white\">L</text>\n",
       "</a>\n",
       "</g>\n",
       "</g>\n",
       "<!-- S&#45;&gt;L -->\n",
       "<g id=\"edge7\" class=\"edge\">\n",
       "<title>S-&gt;L</title>\n",
       "<g id=\"a_edge7\"><a xlink:title=\"(1, 3) : \">\n",
       "<path fill=\"none\" stroke=\"#4a4a4a\" d=\"M119.6,-216.41C116.49,-208.34 112.67,-198.43 109.17,-189.35\"/>\n",
       "<polygon fill=\"#4a4a4a\" stroke=\"#4a4a4a\" points=\"112.4,-188.03 105.54,-179.96 105.87,-190.55 112.4,-188.03\"/>\n",
       "</a>\n",
       "</g>\n",
       "</g>\n",
       "<!-- L&#45;&gt;E -->\n",
       "<g id=\"edge8\" class=\"edge\">\n",
       "<title>L-&gt;E</title>\n",
       "<g id=\"a_edge8\"><a xlink:title=\"(3, 5) : \">\n",
       "<path fill=\"none\" stroke=\"#4a4a4a\" d=\"M94.88,-144.05C92.99,-136.26 90.7,-126.82 88.58,-118.08\"/>\n",
       "<polygon fill=\"#4a4a4a\" stroke=\"#4a4a4a\" points=\"91.96,-117.17 86.2,-108.28 85.15,-118.82 91.96,-117.17\"/>\n",
       "</a>\n",
       "</g>\n",
       "</g>\n",
       "</g>\n",
       "</svg></div></td><td style=\"border-top:hidden;border-bottom:hidden;\"><div align=\"center\" style=\"\"><svg xmlns=\"http://www.w3.org/2000/svg\" xmlns:xlink=\"http://www.w3.org/1999/xlink\" width=\"189pt\" height=\"260pt\" viewBox=\"0.00 0.00 189.00 260.00\">\n",
       "<g id=\"graph0\" class=\"graph\" transform=\"scale(1 1) rotate(0) translate(4 256)\">\n",
       "<title>G</title>\n",
       "<!-- A -->\n",
       "<g id=\"node1\" class=\"node\">\n",
       "<title>A</title>\n",
       "<g id=\"a_node1\"><a xlink:title=\"(0) A\">\n",
       "<ellipse fill=\"#404040\" stroke=\"black\" cx=\"27\" cy=\"-234\" rx=\"27\" ry=\"18\"/>\n",
       "<text text-anchor=\"middle\" x=\"27\" y=\"-229.8\" font-family=\"Times,serif\" font-size=\"14.00\" fill=\"white\">A</text>\n",
       "</a>\n",
       "</g>\n",
       "</g>\n",
       "<!-- T -->\n",
       "<g id=\"node2\" class=\"node\">\n",
       "<title>T</title>\n",
       "<g id=\"a_node2\"><a xlink:title=\"(2) T\">\n",
       "<ellipse fill=\"#404040\" stroke=\"black\" cx=\"27\" cy=\"-162\" rx=\"27\" ry=\"18\"/>\n",
       "<text text-anchor=\"middle\" x=\"27\" y=\"-157.8\" font-family=\"Times,serif\" font-size=\"14.00\" fill=\"white\">T</text>\n",
       "</a>\n",
       "</g>\n",
       "</g>\n",
       "<!-- A&#45;&gt;T -->\n",
       "<g id=\"edge4\" class=\"edge\">\n",
       "<title>A-&gt;T</title>\n",
       "<g id=\"a_edge4\"><a xlink:title=\"(0, 2) : \">\n",
       "<path fill=\"none\" stroke=\"#4a4a4a\" d=\"M27,-215.7C27,-207.98 27,-198.71 27,-190.11\"/>\n",
       "<polygon fill=\"#4a4a4a\" stroke=\"#4a4a4a\" points=\"30.5,-190.1 27,-180.1 23.5,-190.1 30.5,-190.1\"/>\n",
       "</a>\n",
       "</g>\n",
       "</g>\n",
       "<!-- E -->\n",
       "<g id=\"node4\" class=\"node\">\n",
       "<title>E</title>\n",
       "<g id=\"a_node4\"><a xlink:title=\"(5) E\">\n",
       "<ellipse fill=\"#404040\" stroke=\"black\" cx=\"82\" cy=\"-90\" rx=\"27\" ry=\"18\"/>\n",
       "<text text-anchor=\"middle\" x=\"82\" y=\"-85.8\" font-family=\"Times,serif\" font-size=\"14.00\" fill=\"white\">E</text>\n",
       "</a>\n",
       "</g>\n",
       "</g>\n",
       "<!-- T&#45;&gt;E -->\n",
       "<g id=\"edge6\" class=\"edge\">\n",
       "<title>T-&gt;E</title>\n",
       "<g id=\"a_edge6\"><a xlink:title=\"(2, 5) : \">\n",
       "<path fill=\"none\" stroke=\"#4a4a4a\" d=\"M38.93,-145.81C46.21,-136.55 55.66,-124.52 63.85,-114.09\"/>\n",
       "<polygon fill=\"#4a4a4a\" stroke=\"#4a4a4a\" points=\"66.66,-116.18 70.09,-106.16 61.16,-111.86 66.66,-116.18\"/>\n",
       "</a>\n",
       "</g>\n",
       "</g>\n",
       "<!-- B -->\n",
       "<g id=\"node3\" class=\"node\">\n",
       "<title>B</title>\n",
       "<g id=\"a_node3\"><a xlink:title=\"(4) B\">\n",
       "<ellipse fill=\"#404040\" stroke=\"black\" cx=\"154\" cy=\"-90\" rx=\"27\" ry=\"18\"/>\n",
       "<text text-anchor=\"middle\" x=\"154\" y=\"-85.8\" font-family=\"Times,serif\" font-size=\"14.00\" fill=\"white\">B</text>\n",
       "</a>\n",
       "</g>\n",
       "</g>\n",
       "<!-- D -->\n",
       "<g id=\"node5\" class=\"node\">\n",
       "<title>D</title>\n",
       "<g id=\"a_node5\"><a xlink:title=\"(6) D\">\n",
       "<ellipse fill=\"#404040\" stroke=\"black\" cx=\"154\" cy=\"-18\" rx=\"27\" ry=\"18\"/>\n",
       "<text text-anchor=\"middle\" x=\"154\" y=\"-13.8\" font-family=\"Times,serif\" font-size=\"14.00\" fill=\"white\">D</text>\n",
       "</a>\n",
       "</g>\n",
       "</g>\n",
       "<!-- B&#45;&gt;D -->\n",
       "<g id=\"edge1\" class=\"edge\">\n",
       "<title>B-&gt;D</title>\n",
       "<g id=\"a_edge1\"><a xlink:title=\"(4, 6) : \">\n",
       "<path fill=\"none\" stroke=\"#4a4a4a\" d=\"M154,-71.7C154,-63.98 154,-54.71 154,-46.11\"/>\n",
       "<polygon fill=\"#4a4a4a\" stroke=\"#4a4a4a\" points=\"157.5,-46.1 154,-36.1 150.5,-46.1 157.5,-46.1\"/>\n",
       "</a>\n",
       "</g>\n",
       "</g>\n",
       "<!-- E&#45;&gt;D -->\n",
       "<g id=\"edge5\" class=\"edge\">\n",
       "<title>E-&gt;D</title>\n",
       "<g id=\"a_edge5\"><a xlink:title=\"(5, 6) : \">\n",
       "<path fill=\"none\" stroke=\"#4a4a4a\" d=\"M96.57,-74.83C106.75,-64.94 120.52,-51.55 132.03,-40.36\"/>\n",
       "<polygon fill=\"#4a4a4a\" stroke=\"#4a4a4a\" points=\"134.47,-42.87 139.2,-33.38 129.59,-37.85 134.47,-42.87\"/>\n",
       "</a>\n",
       "</g>\n",
       "</g>\n",
       "<!-- X -->\n",
       "<g id=\"node6\" class=\"node\">\n",
       "<title>X</title>\n",
       "<g id=\"a_node6\"><a xlink:title=\"(7) X\">\n",
       "<ellipse fill=\"#404040\" stroke=\"black\" cx=\"82\" cy=\"-18\" rx=\"27\" ry=\"18\"/>\n",
       "<text text-anchor=\"middle\" x=\"82\" y=\"-13.8\" font-family=\"Times,serif\" font-size=\"14.00\" fill=\"white\">X</text>\n",
       "</a>\n",
       "</g>\n",
       "</g>\n",
       "<!-- E&#45;&gt;X -->\n",
       "<g id=\"edge2\" class=\"edge\">\n",
       "<title>E-&gt;X</title>\n",
       "<g id=\"a_edge2\"><a xlink:title=\"(5, 7) : \">\n",
       "<path fill=\"none\" stroke=\"#4a4a4a\" d=\"M82,-71.7C82,-63.98 82,-54.71 82,-46.11\"/>\n",
       "<polygon fill=\"#4a4a4a\" stroke=\"#4a4a4a\" points=\"85.5,-46.1 82,-36.1 78.5,-46.1 85.5,-46.1\"/>\n",
       "</a>\n",
       "</g>\n",
       "</g>\n",
       "<!-- S -->\n",
       "<g id=\"node7\" class=\"node\">\n",
       "<title>S</title>\n",
       "<g id=\"a_node7\"><a xlink:title=\"(1) S\">\n",
       "<ellipse fill=\"#404040\" stroke=\"black\" cx=\"126\" cy=\"-234\" rx=\"27\" ry=\"18\"/>\n",
       "<text text-anchor=\"middle\" x=\"126\" y=\"-229.8\" font-family=\"Times,serif\" font-size=\"14.00\" fill=\"white\">S</text>\n",
       "</a>\n",
       "</g>\n",
       "</g>\n",
       "<!-- S&#45;&gt;B -->\n",
       "<g id=\"edge3\" class=\"edge\">\n",
       "<title>S-&gt;B</title>\n",
       "<g id=\"a_edge3\"><a xlink:title=\"(1, 4) : \">\n",
       "<path fill=\"none\" stroke=\"#4a4a4a\" d=\"M129.38,-215.87C134.17,-191.56 142.99,-146.82 148.67,-118.01\"/>\n",
       "<polygon fill=\"#4a4a4a\" stroke=\"#4a4a4a\" points=\"152.11,-118.68 150.61,-108.19 145.24,-117.32 152.11,-118.68\"/>\n",
       "</a>\n",
       "</g>\n",
       "</g>\n",
       "<!-- L -->\n",
       "<g id=\"node8\" class=\"node\">\n",
       "<title>L</title>\n",
       "<g id=\"a_node8\"><a xlink:title=\"(3) L\">\n",
       "<ellipse fill=\"#404040\" stroke=\"black\" cx=\"99\" cy=\"-162\" rx=\"27\" ry=\"18\"/>\n",
       "<text text-anchor=\"middle\" x=\"99\" y=\"-157.8\" font-family=\"Times,serif\" font-size=\"14.00\" fill=\"white\">L</text>\n",
       "</a>\n",
       "</g>\n",
       "</g>\n",
       "<!-- S&#45;&gt;L -->\n",
       "<g id=\"edge7\" class=\"edge\">\n",
       "<title>S-&gt;L</title>\n",
       "<g id=\"a_edge7\"><a xlink:title=\"(1, 3) : \">\n",
       "<path fill=\"none\" stroke=\"#4a4a4a\" d=\"M119.6,-216.41C116.49,-208.34 112.67,-198.43 109.17,-189.35\"/>\n",
       "<polygon fill=\"#4a4a4a\" stroke=\"#4a4a4a\" points=\"112.4,-188.03 105.54,-179.96 105.87,-190.55 112.4,-188.03\"/>\n",
       "</a>\n",
       "</g>\n",
       "</g>\n",
       "<!-- L&#45;&gt;E -->\n",
       "<g id=\"edge8\" class=\"edge\">\n",
       "<title>L-&gt;E</title>\n",
       "<g id=\"a_edge8\"><a xlink:title=\"(3, 5) : \">\n",
       "<path fill=\"none\" stroke=\"#4a4a4a\" d=\"M94.88,-144.05C92.99,-136.26 90.7,-126.82 88.58,-118.08\"/>\n",
       "<polygon fill=\"#4a4a4a\" stroke=\"#4a4a4a\" points=\"91.96,-117.17 86.2,-108.28 85.15,-118.82 91.96,-117.17\"/>\n",
       "</a>\n",
       "</g>\n",
       "</g>\n",
       "</g>\n",
       "</svg></div></td></tr><tr><td style=\"border-top:hidden;border-bottom:hidden;\"><div align=\"center\"><small>First bn</small></div></td><td style=\"border-top:hidden;border-bottom:hidden;\"><div align=\"center\"><small>Second bn</small></div></td></tr></table>"
      ],
      "text/plain": [
       "<IPython.core.display.HTML object>"
      ]
     },
     "metadata": {},
     "output_type": "display_data"
    }
   ],
   "source": [
    "bn=gum.loadBN(os.path.join(\"out\",\"VisitAsia.bif\"))\n",
    "bn2=gum.loadBN(os.path.join(\"out\",\"VisitAsia.bif\"))\n",
    "\n",
    "gnb.sideBySide(bn,bn2,\n",
    "               captions=['First bn','Second bn'])"
   ]
  },
  {
   "cell_type": "code",
   "execution_count": 50,
   "metadata": {},
   "outputs": [
    {
     "data": {
      "text/html": [
       "<table style=\"border:1px solid black;\">\n",
       "<tr><th colspan='2'></th><th colspan='2' style='border:1px solid black;color:black;background-color:#808080;'><center>D</center></th></tr>\n",
       "<tr><th style='border:1px solid black;color:black;background-color:#808080'><center>E</center></th><th style='border:1px solid black;color:black;background-color:#808080'><center>B</center></th><th style='border:1px solid black;border-bottom-style: double;color:black;background-color:#BBBBBB'><center>0</center></th><th style='border:1px solid black;border-bottom-style: double;color:black;background-color:#BBBBBB'><center>1</center></th></tr>\n",
       "<tr><th style='border:1px solid black;color:black;background-color:#BBBBBB;' rowspan = '2'><center>0</center></th><th style='border:1px solid black;color:black;background-color:#BBBBBB'><center>0</center></th><td style='color:black;background-color:#8bf264;text-align:right;'>0.9000</td><td style='color:black;background-color:#f28b64;text-align:right;'>0.1000</td></tr>\n",
       "<tr><th style='border:1px solid black;color:black;background-color:#BBBBBB'><center>1</center></th><td style='color:black;background-color:#e59864;text-align:right;'>0.2000</td><td style='color:black;background-color:#98e564;text-align:right;'>0.8000</td></tr>\n",
       "<tr><th style='border:1px solid black;color:black;background-color:#BBBBBB;' rowspan = '2'><center>1</center></th><th style='border:1px solid black;color:black;background-color:#BBBBBB'><center>0</center></th><td style='color:black;background-color:#d8a564;text-align:right;'>0.3000</td><td style='color:black;background-color:#a5d864;text-align:right;'>0.7000</td></tr>\n",
       "<tr><th style='border:1px solid black;color:black;background-color:#BBBBBB'><center>1</center></th><td style='color:black;background-color:#f28b64;text-align:right;'>0.1000</td><td style='color:black;background-color:#8bf264;text-align:right;'>0.9000</td></tr>\n",
       "</table>"
      ],
      "text/plain": [
       "(gum::Potential<double>@0x7ffe5512b540) \n",
       "             ||  D                |\n",
       "B     |E     ||0        |1        |\n",
       "------|------||---------|---------|\n",
       "0     |0     || 0.9000  | 0.1000  |\n",
       "1     |0     || 0.2000  | 0.8000  |\n",
       "0     |1     || 0.3000  | 0.7000  |\n",
       "1     |1     || 0.1000  | 0.9000  |"
      ]
     },
     "execution_count": 50,
     "metadata": {},
     "output_type": "execute_result"
    }
   ],
   "source": [
    "bn.cpt(\"D\")"
   ]
  },
  {
   "cell_type": "markdown",
   "metadata": {},
   "source": [
    "## Randomizing the parameters"
   ]
  },
  {
   "cell_type": "code",
   "execution_count": 51,
   "metadata": {
    "ExecuteTime": {
     "end_time": "2019-02-25T16:09:53.164096Z",
     "start_time": "2019-02-25T16:09:53.161235Z"
    },
    "execution": {
     "iopub.execute_input": "2021-04-02T20:30:41.717603Z",
     "iopub.status.busy": "2021-04-02T20:30:41.716603Z",
     "iopub.status.idle": "2021-04-02T20:30:41.732606Z",
     "shell.execute_reply": "2021-04-02T20:30:41.731605Z",
     "shell.execute_reply.started": "2021-04-02T20:30:41.717603Z"
    }
   },
   "outputs": [],
   "source": [
    "bn.generateCPTs()\n",
    "bn2.generateCPTs()"
   ]
  },
  {
   "cell_type": "markdown",
   "metadata": {},
   "source": [
    "## Direct comparison of parameters"
   ]
  },
  {
   "cell_type": "code",
   "execution_count": 52,
   "metadata": {
    "ExecuteTime": {
     "end_time": "2019-02-25T16:09:53.180035Z",
     "start_time": "2019-02-25T16:09:53.165848Z"
    },
    "execution": {
     "iopub.execute_input": "2021-04-02T20:30:41.733605Z",
     "iopub.status.busy": "2021-04-02T20:30:41.733605Z",
     "iopub.status.idle": "2021-04-02T20:30:41.748603Z",
     "shell.execute_reply": "2021-04-02T20:30:41.747603Z",
     "shell.execute_reply.started": "2021-04-02T20:30:41.733605Z"
    }
   },
   "outputs": [
    {
     "data": {
      "text/html": [
       "<table style=\"border-style: hidden; border-collapse: collapse;\" width=\"100%\"><tr><td style=\"border-top:hidden;border-bottom:hidden;\"><div align=\"center\" style=\"\"><table style=\"border:1px solid black;\">\n",
       "<tr><th colspan='1'></th><th colspan='2' style='border:1px solid black;color:black;background-color:#808080;'><center>L</center></th></tr>\n",
       "<tr><th style='border:1px solid black;color:black;background-color:#808080'><center>S</center></th><th style='border:1px solid black;border-bottom-style: double;color:black;background-color:#BBBBBB'><center>0</center></th><th style='border:1px solid black;border-bottom-style: double;color:black;background-color:#BBBBBB'><center>1</center></th></tr>\n",
       "<tr><th style='border:1px solid black;color:black;background-color:#BBBBBB'><center>0</center></th><td style='color:black;background-color:#c2bb64;text-align:right;'>0.4719</td><td style='color:black;background-color:#bbc264;text-align:right;'>0.5281</td></tr>\n",
       "<tr><th style='border:1px solid black;color:black;background-color:#BBBBBB'><center>1</center></th><td style='color:black;background-color:#97e664;text-align:right;'>0.8073</td><td style='color:black;background-color:#e69764;text-align:right;'>0.1927</td></tr>\n",
       "</table></div></td><td style=\"border-top:hidden;border-bottom:hidden;\"><div align=\"center\" style=\"\"><table style=\"border:1px solid black;\">\n",
       "<tr><th colspan='1'></th><th colspan='2' style='border:1px solid black;color:black;background-color:#808080;'><center>L</center></th></tr>\n",
       "<tr><th style='border:1px solid black;color:black;background-color:#808080'><center>S</center></th><th style='border:1px solid black;border-bottom-style: double;color:black;background-color:#BBBBBB'><center>0</center></th><th style='border:1px solid black;border-bottom-style: double;color:black;background-color:#BBBBBB'><center>1</center></th></tr>\n",
       "<tr><th style='border:1px solid black;color:black;background-color:#BBBBBB'><center>0</center></th><td style='color:black;background-color:#8df064;text-align:right;'>0.8872</td><td style='color:black;background-color:#f08d64;text-align:right;'>0.1128</td></tr>\n",
       "<tr><th style='border:1px solid black;color:black;background-color:#BBBBBB'><center>1</center></th><td style='color:black;background-color:#f88564;text-align:right;'>0.0490</td><td style='color:black;background-color:#85f864;text-align:right;'>0.9510</td></tr>\n",
       "</table></div></td></tr><tr><td style=\"border-top:hidden;border-bottom:hidden;\"><div align=\"center\"><small><h3>cpt of node 3 in first bn</h3></small></div></td><td style=\"border-top:hidden;border-bottom:hidden;\"><div align=\"center\"><small><h3>same cpt in second bn</h3></small></div></td></tr></table>"
      ],
      "text/plain": [
       "<IPython.core.display.HTML object>"
      ]
     },
     "metadata": {},
     "output_type": "display_data"
    }
   ],
   "source": [
    "from IPython.display import HTML\n",
    "\n",
    "gnb.sideBySide(bn.cpt(3),\n",
    "               bn2.cpt(3),\n",
    "               captions=['<h3>cpt of node 3 in first bn</h3>','<h3>same cpt in second bn</h3>'])\n"
   ]
  },
  {
   "cell_type": "markdown",
   "metadata": {},
   "source": [
    "## Exact KL-divergence "
   ]
  },
  {
   "cell_type": "markdown",
   "metadata": {},
   "source": [
    "Since the BN is not too big, BruteForceKL can be computed ..."
   ]
  },
  {
   "cell_type": "code",
   "execution_count": 53,
   "metadata": {
    "ExecuteTime": {
     "end_time": "2019-02-25T16:09:53.188124Z",
     "start_time": "2019-02-25T16:09:53.182178Z"
    },
    "execution": {
     "iopub.execute_input": "2021-04-02T20:30:41.749605Z",
     "iopub.status.busy": "2021-04-02T20:30:41.749605Z",
     "iopub.status.idle": "2021-04-02T20:30:41.763606Z",
     "shell.execute_reply": "2021-04-02T20:30:41.762606Z",
     "shell.execute_reply.started": "2021-04-02T20:30:41.749605Z"
    }
   },
   "outputs": [
    {
     "name": "stdout",
     "output_type": "stream",
     "text": [
      "4.6894916879993085\n"
     ]
    }
   ],
   "source": [
    "g1=gum.ExactBNdistance(bn,bn2)\n",
    "before_learning=g1.compute()\n",
    "print(before_learning['klPQ'])"
   ]
  },
  {
   "cell_type": "markdown",
   "metadata": {},
   "source": [
    "Just to be sure that the distance between a BN and itself is 0 :"
   ]
  },
  {
   "cell_type": "code",
   "execution_count": 54,
   "metadata": {
    "ExecuteTime": {
     "end_time": "2019-02-25T16:09:53.194564Z",
     "start_time": "2019-02-25T16:09:53.190123Z"
    },
    "execution": {
     "iopub.execute_input": "2021-04-02T20:30:41.765607Z",
     "iopub.status.busy": "2021-04-02T20:30:41.764605Z",
     "iopub.status.idle": "2021-04-02T20:30:41.778605Z",
     "shell.execute_reply": "2021-04-02T20:30:41.777605Z",
     "shell.execute_reply.started": "2021-04-02T20:30:41.765607Z"
    }
   },
   "outputs": [
    {
     "name": "stdout",
     "output_type": "stream",
     "text": [
      "0.0\n"
     ]
    }
   ],
   "source": [
    "g0=gum.ExactBNdistance(bn,bn)\n",
    "print(g0.compute()['klPQ'])"
   ]
  },
  {
   "cell_type": "markdown",
   "metadata": {},
   "source": [
    "## Generate a database from the original BN"
   ]
  },
  {
   "cell_type": "code",
   "execution_count": 24,
   "metadata": {
    "ExecuteTime": {
     "end_time": "2019-02-25T16:09:53.318968Z",
     "start_time": "2019-02-25T16:09:53.196422Z"
    },
    "execution": {
     "iopub.execute_input": "2021-04-02T20:30:41.779604Z",
     "iopub.status.busy": "2021-04-02T20:30:41.779604Z",
     "iopub.status.idle": "2021-04-02T20:30:41.950605Z",
     "shell.execute_reply": "2021-04-02T20:30:41.950605Z",
     "shell.execute_reply.started": "2021-04-02T20:30:41.779604Z"
    },
    "scrolled": false
   },
   "outputs": [
    {
     "name": "stdout",
     "output_type": "stream",
     "text": [
      " out/test.csv : [ ############################################################ ] 100%\n",
      "Log2-Likelihood : -32684.47588536407\n"
     ]
    },
    {
     "data": {
      "text/plain": [
       "-32684.47588536407"
      ]
     },
     "execution_count": 24,
     "metadata": {},
     "output_type": "execute_result"
    }
   ],
   "source": [
    "gum.generateCSV(bn,os.path.join(\"out\",\"test.csv\"),10000,False)"
   ]
  },
  {
   "cell_type": "markdown",
   "metadata": {},
   "source": [
    "## Using pandas for _counting\n",
    "\n",
    "As an exercise, we will use pandas to learn the parameters. However **<font color=\"red\">the simplest way to learn parameters is to use `BNLearner` :-)</font>**. Moreover, you will be able to add priors, etc.\n"
   ]
  },
  {
   "cell_type": "code",
   "execution_count": 55,
   "metadata": {
    "execution": {
     "iopub.execute_input": "2021-04-02T20:30:41.952606Z",
     "iopub.status.busy": "2021-04-02T20:30:41.951606Z",
     "iopub.status.idle": "2021-04-02T20:30:42.012604Z",
     "shell.execute_reply": "2021-04-02T20:30:42.011604Z",
     "shell.execute_reply.started": "2021-04-02T20:30:41.952606Z"
    }
   },
   "outputs": [
    {
     "name": "stdout",
     "output_type": "stream",
     "text": [
      "without priori :3.1708503197342965\n",
      "with prior smooting(1000):2.2272613442612275\n"
     ]
    }
   ],
   "source": [
    "# using bn as a template for the specification of variables in test.csv\n",
    "learner=gum.BNLearner(os.path.join(\"out\",\"test.csv\"),bn) \n",
    "bn3=learner.learnParameters(bn.dag())\n",
    "\n",
    "#the same but we add a Laplace adjustment as a Prior\n",
    "learner=gum.BNLearner(os.path.join(\"out\",\"test.csv\"),bn) \n",
    "learner.useAprioriSmoothing(1000) # a count C is replaced by C+1000\n",
    "bn4=learner.learnParameters(bn.dag())\n",
    "\n",
    "after_pyAgrum_learning=gum.ExactBNdistance(bn,bn3).compute()\n",
    "after_pyAgrum_learning_with_laplace=gum.ExactBNdistance(bn,bn4).compute()\n",
    "print(\"without priori :{}\".format(after_pyAgrum_learning['klPQ']))\n",
    "print(\"with prior smooting(1000):{}\".format(after_pyAgrum_learning_with_laplace['klPQ']))"
   ]
  },
  {
   "cell_type": "markdown",
   "metadata": {},
   "source": [
    "### Now, let's try to learn the parameters with pandas"
   ]
  },
  {
   "cell_type": "code",
   "execution_count": 56,
   "metadata": {
    "ExecuteTime": {
     "end_time": "2019-02-25T16:09:53.651559Z",
     "start_time": "2019-02-25T16:09:53.321004Z"
    },
    "execution": {
     "iopub.execute_input": "2021-04-02T20:30:42.013605Z",
     "iopub.status.busy": "2021-04-02T20:30:42.013605Z",
     "iopub.status.idle": "2021-04-02T20:30:42.327603Z",
     "shell.execute_reply": "2021-04-02T20:30:42.325603Z",
     "shell.execute_reply.started": "2021-04-02T20:30:42.013605Z"
    }
   },
   "outputs": [
    {
     "data": {
      "text/html": [
       "<div>\n",
       "<style scoped>\n",
       "    .dataframe tbody tr th:only-of-type {\n",
       "        vertical-align: middle;\n",
       "    }\n",
       "\n",
       "    .dataframe tbody tr th {\n",
       "        vertical-align: top;\n",
       "    }\n",
       "\n",
       "    .dataframe thead th {\n",
       "        text-align: right;\n",
       "    }\n",
       "</style>\n",
       "<table border=\"1\" class=\"dataframe\">\n",
       "  <thead>\n",
       "    <tr style=\"text-align: right;\">\n",
       "      <th></th>\n",
       "      <th>X</th>\n",
       "      <th>L</th>\n",
       "      <th>A</th>\n",
       "      <th>D</th>\n",
       "      <th>T</th>\n",
       "      <th>B</th>\n",
       "      <th>S</th>\n",
       "      <th>E</th>\n",
       "    </tr>\n",
       "  </thead>\n",
       "  <tbody>\n",
       "    <tr>\n",
       "      <th>0</th>\n",
       "      <td>0</td>\n",
       "      <td>0</td>\n",
       "      <td>0</td>\n",
       "      <td>1</td>\n",
       "      <td>0</td>\n",
       "      <td>1</td>\n",
       "      <td>1</td>\n",
       "      <td>0</td>\n",
       "    </tr>\n",
       "    <tr>\n",
       "      <th>1</th>\n",
       "      <td>0</td>\n",
       "      <td>0</td>\n",
       "      <td>0</td>\n",
       "      <td>1</td>\n",
       "      <td>0</td>\n",
       "      <td>1</td>\n",
       "      <td>1</td>\n",
       "      <td>0</td>\n",
       "    </tr>\n",
       "    <tr>\n",
       "      <th>2</th>\n",
       "      <td>0</td>\n",
       "      <td>0</td>\n",
       "      <td>0</td>\n",
       "      <td>0</td>\n",
       "      <td>0</td>\n",
       "      <td>1</td>\n",
       "      <td>1</td>\n",
       "      <td>0</td>\n",
       "    </tr>\n",
       "    <tr>\n",
       "      <th>3</th>\n",
       "      <td>0</td>\n",
       "      <td>0</td>\n",
       "      <td>0</td>\n",
       "      <td>1</td>\n",
       "      <td>0</td>\n",
       "      <td>1</td>\n",
       "      <td>0</td>\n",
       "      <td>0</td>\n",
       "    </tr>\n",
       "    <tr>\n",
       "      <th>4</th>\n",
       "      <td>0</td>\n",
       "      <td>0</td>\n",
       "      <td>0</td>\n",
       "      <td>1</td>\n",
       "      <td>0</td>\n",
       "      <td>1</td>\n",
       "      <td>1</td>\n",
       "      <td>0</td>\n",
       "    </tr>\n",
       "  </tbody>\n",
       "</table>\n",
       "</div>"
      ],
      "text/plain": [
       "   X  L  A  D  T  B  S  E\n",
       "0  0  0  0  1  0  1  1  0\n",
       "1  0  0  0  1  0  1  1  0\n",
       "2  0  0  0  0  0  1  1  0\n",
       "3  0  0  0  1  0  1  0  0\n",
       "4  0  0  0  1  0  1  1  0"
      ]
     },
     "execution_count": 56,
     "metadata": {},
     "output_type": "execute_result"
    }
   ],
   "source": [
    "import pandas\n",
    "df=pandas.read_csv(os.path.join(\"out\",\"test.csv\"))\n",
    "df.head()"
   ]
  },
  {
   "cell_type": "markdown",
   "metadata": {},
   "source": [
    "We use the crosstab function in pandas"
   ]
  },
  {
   "cell_type": "code",
   "execution_count": 57,
   "metadata": {
    "ExecuteTime": {
     "end_time": "2019-02-25T16:09:53.677608Z",
     "start_time": "2019-02-25T16:09:53.653478Z"
    },
    "execution": {
     "iopub.execute_input": "2021-04-02T20:30:42.328604Z",
     "iopub.status.busy": "2021-04-02T20:30:42.328604Z",
     "iopub.status.idle": "2021-04-02T20:30:42.372604Z",
     "shell.execute_reply": "2021-04-02T20:30:42.371604Z",
     "shell.execute_reply.started": "2021-04-02T20:30:42.328604Z"
    }
   },
   "outputs": [
    {
     "data": {
      "text/html": [
       "<div>\n",
       "<style scoped>\n",
       "    .dataframe tbody tr th:only-of-type {\n",
       "        vertical-align: middle;\n",
       "    }\n",
       "\n",
       "    .dataframe tbody tr th {\n",
       "        vertical-align: top;\n",
       "    }\n",
       "\n",
       "    .dataframe thead tr th {\n",
       "        text-align: left;\n",
       "    }\n",
       "\n",
       "    .dataframe thead tr:last-of-type th {\n",
       "        text-align: right;\n",
       "    }\n",
       "</style>\n",
       "<table border=\"1\" class=\"dataframe\">\n",
       "  <thead>\n",
       "    <tr>\n",
       "      <th>T</th>\n",
       "      <th colspan=\"2\" halign=\"left\">0</th>\n",
       "      <th colspan=\"2\" halign=\"left\">1</th>\n",
       "    </tr>\n",
       "    <tr>\n",
       "      <th>B</th>\n",
       "      <th>0</th>\n",
       "      <th>1</th>\n",
       "      <th>0</th>\n",
       "      <th>1</th>\n",
       "    </tr>\n",
       "    <tr>\n",
       "      <th>D</th>\n",
       "      <th></th>\n",
       "      <th></th>\n",
       "      <th></th>\n",
       "      <th></th>\n",
       "    </tr>\n",
       "  </thead>\n",
       "  <tbody>\n",
       "    <tr>\n",
       "      <th>0</th>\n",
       "      <td>4679</td>\n",
       "      <td>911</td>\n",
       "      <td>15</td>\n",
       "      <td>5</td>\n",
       "    </tr>\n",
       "    <tr>\n",
       "      <th>1</th>\n",
       "      <td>697</td>\n",
       "      <td>3603</td>\n",
       "      <td>47</td>\n",
       "      <td>43</td>\n",
       "    </tr>\n",
       "  </tbody>\n",
       "</table>\n",
       "</div>"
      ],
      "text/plain": [
       "T     0         1    \n",
       "B     0     1   0   1\n",
       "D                    \n",
       "0  4679   911  15   5\n",
       "1   697  3603  47  43"
      ]
     },
     "execution_count": 57,
     "metadata": {},
     "output_type": "execute_result"
    }
   ],
   "source": [
    "c=pandas.crosstab(df['D'],[df['T'],df['B']])\n",
    "c"
   ]
  },
  {
   "cell_type": "markdown",
   "metadata": {},
   "source": [
    "Playing with numpy reshaping, we retrieve the good form for the CPT from the pandas cross-table"
   ]
  },
  {
   "cell_type": "code",
   "execution_count": 58,
   "metadata": {
    "ExecuteTime": {
     "end_time": "2019-02-25T16:09:53.695120Z",
     "start_time": "2019-02-25T16:09:53.679311Z"
    },
    "execution": {
     "iopub.execute_input": "2021-04-02T20:30:42.373603Z",
     "iopub.status.busy": "2021-04-02T20:30:42.373603Z",
     "iopub.status.idle": "2021-04-02T20:30:42.387602Z",
     "shell.execute_reply": "2021-04-02T20:30:42.387602Z",
     "shell.execute_reply.started": "2021-04-02T20:30:42.373603Z"
    }
   },
   "outputs": [
    {
     "data": {
      "text/html": [
       "<table style=\"border-style: hidden; border-collapse: collapse;\" width=\"100%\"><tr><td style=\"border-top:hidden;border-bottom:hidden;\"><div align=\"center\" style=\"\"><pre>[[[0.8703497  0.1296503 ]\n",
       "  [0.20181657 0.79818343]]\n",
       "\n",
       " [[0.24193548 0.75806452]\n",
       "  [0.10416667 0.89583333]]]</pre></div></td><td style=\"border-top:hidden;border-bottom:hidden;\"><div align=\"center\" style=\"\"><table style=\"border:1px solid black;\">\n",
       "<tr><th colspan='2'></th><th colspan='2' style='border:1px solid black;color:black;background-color:#808080;'><center>D</center></th></tr>\n",
       "<tr><th style='border:1px solid black;color:black;background-color:#808080'><center>E</center></th><th style='border:1px solid black;color:black;background-color:#808080'><center>B</center></th><th style='border:1px solid black;border-bottom-style: double;color:black;background-color:#BBBBBB'><center>0</center></th><th style='border:1px solid black;border-bottom-style: double;color:black;background-color:#BBBBBB'><center>1</center></th></tr>\n",
       "<tr><th style='border:1px solid black;color:black;background-color:#BBBBBB;' rowspan = '2'><center>0</center></th><th style='border:1px solid black;color:black;background-color:#BBBBBB'><center>0</center></th><td style='color:black;background-color:#82fb64;text-align:right;'>0.9735</td><td style='color:black;background-color:#fb8264;text-align:right;'>0.0265</td></tr>\n",
       "<tr><th style='border:1px solid black;color:black;background-color:#BBBBBB'><center>1</center></th><td style='color:black;background-color:#a9d464;text-align:right;'>0.6676</td><td style='color:black;background-color:#d4a964;text-align:right;'>0.3324</td></tr>\n",
       "<tr><th style='border:1px solid black;color:black;background-color:#BBBBBB;' rowspan = '2'><center>1</center></th><th style='border:1px solid black;color:black;background-color:#BBBBBB'><center>0</center></th><td style='color:black;background-color:#c0bd64;text-align:right;'>0.4885</td><td style='color:black;background-color:#bdc064;text-align:right;'>0.5115</td></tr>\n",
       "<tr><th style='border:1px solid black;color:black;background-color:#BBBBBB'><center>1</center></th><td style='color:black;background-color:#91ec64;text-align:right;'>0.8565</td><td style='color:black;background-color:#ec9164;text-align:right;'>0.1435</td></tr>\n",
       "</table></div></td></tr><tr><td style=\"border-top:hidden;border-bottom:hidden;\"><div align=\"center\"><small><h3>Learned parameters in crosstab</small></div></td><td style=\"border-top:hidden;border-bottom:hidden;\"><div align=\"center\"><small><h3>Original parameters in bn</h3></small></div></td></tr></table>"
      ],
      "text/plain": [
       "<IPython.core.display.HTML object>"
      ]
     },
     "metadata": {},
     "output_type": "display_data"
    }
   ],
   "source": [
    "gnb.sideBySide('<pre>'+str(np.array((c/c.sum().apply(np.float32)).transpose()).reshape(2,2,2))+'</pre>',\n",
    "               bn.cpt(bn.idFromName('D')),\n",
    "               captions=[\"<h3>Learned parameters in crosstab\",\"<h3>Original parameters in bn</h3>\"])"
   ]
  },
  {
   "cell_type": "markdown",
   "metadata": {},
   "source": [
    "## A global method for estimating Bayesian network parameters from CSV file using PANDAS"
   ]
  },
  {
   "cell_type": "code",
   "execution_count": 59,
   "metadata": {
    "ExecuteTime": {
     "end_time": "2019-02-25T16:09:53.703200Z",
     "start_time": "2019-02-25T16:09:53.696660Z"
    },
    "execution": {
     "iopub.execute_input": "2021-04-02T20:30:42.389604Z",
     "iopub.status.busy": "2021-04-02T20:30:42.389604Z",
     "iopub.status.idle": "2021-04-02T20:30:42.403602Z",
     "shell.execute_reply": "2021-04-02T20:30:42.403602Z",
     "shell.execute_reply.started": "2021-04-02T20:30:42.389604Z"
    }
   },
   "outputs": [],
   "source": [
    "def computeCPTfromDF(bn,df,name):\n",
    "    \"\"\"\n",
    "    Compute the CPT of variable \"name\" in the BN bn from the database df\n",
    "    \"\"\"\n",
    "    id=bn.idFromName(name)\n",
    "    domains=[bn.variableFromName(name).domainSize() \n",
    "             for name in bn.cpt(id).var_names]\n",
    "\n",
    "    parents=list(bn.cpt(id).var_names)\n",
    "    parents.pop()\n",
    "    \n",
    "    if (len(parents)>0):\n",
    "        c=pandas.crosstab(df[name],[df[parent] for parent in parents])\n",
    "        s=c/c.sum().apply(np.float32)\n",
    "    else:\n",
    "        s=df[name].value_counts(normalize=True)\n",
    "        \n",
    "    bn.cpt(id)[:]=np.array((s).transpose()).reshape(*domains)\n",
    "    \n",
    "def ParametersLearning(bn,df):\n",
    "    \"\"\"\n",
    "    Compute the CPTs of every varaible in the BN bn from the database df\n",
    "    \"\"\"\n",
    "    for name in bn.names():\n",
    "        computeCPTfromDF(bn,df,name)"
   ]
  },
  {
   "cell_type": "code",
   "execution_count": 60,
   "metadata": {
    "ExecuteTime": {
     "end_time": "2019-02-25T16:09:53.831116Z",
     "start_time": "2019-02-25T16:09:53.706768Z"
    },
    "execution": {
     "iopub.execute_input": "2021-04-02T20:30:42.405605Z",
     "iopub.status.busy": "2021-04-02T20:30:42.404603Z",
     "iopub.status.idle": "2021-04-02T20:30:42.468603Z",
     "shell.execute_reply": "2021-04-02T20:30:42.467604Z",
     "shell.execute_reply.started": "2021-04-02T20:30:42.405605Z"
    }
   },
   "outputs": [],
   "source": [
    "ParametersLearning(bn2,df)"
   ]
  },
  {
   "cell_type": "markdown",
   "metadata": {},
   "source": [
    "KL has decreased a lot (if everything's OK)"
   ]
  },
  {
   "cell_type": "code",
   "execution_count": 61,
   "metadata": {
    "ExecuteTime": {
     "end_time": "2019-02-25T16:09:53.837243Z",
     "start_time": "2019-02-25T16:09:53.833115Z"
    },
    "execution": {
     "iopub.execute_input": "2021-04-02T20:30:42.469604Z",
     "iopub.status.busy": "2021-04-02T20:30:42.469604Z",
     "iopub.status.idle": "2021-04-02T20:30:42.483604Z",
     "shell.execute_reply": "2021-04-02T20:30:42.482604Z",
     "shell.execute_reply.started": "2021-04-02T20:30:42.469604Z"
    }
   },
   "outputs": [
    {
     "name": "stdout",
     "output_type": "stream",
     "text": [
      "BEFORE LEARNING\n",
      "4.6894916879993085\n",
      "AFTER LEARNING\n",
      "3.1780361926481295\n"
     ]
    }
   ],
   "source": [
    "g1=gum.ExactBNdistance(bn,bn2)\n",
    "print(\"BEFORE LEARNING\")\n",
    "print(before_learning['klPQ'])\n",
    "print\n",
    "print(\"AFTER LEARNING\")\n",
    "print(g1.compute()['klPQ'])"
   ]
  },
  {
   "cell_type": "markdown",
   "metadata": {},
   "source": [
    "And CPTs should be close"
   ]
  },
  {
   "cell_type": "code",
   "execution_count": 62,
   "metadata": {
    "ExecuteTime": {
     "end_time": "2019-02-25T16:09:53.847007Z",
     "start_time": "2019-02-25T16:09:53.838694Z"
    },
    "execution": {
     "iopub.execute_input": "2021-04-02T20:30:42.486604Z",
     "iopub.status.busy": "2021-04-02T20:30:42.486604Z",
     "iopub.status.idle": "2021-04-02T20:30:42.498604Z",
     "shell.execute_reply": "2021-04-02T20:30:42.497606Z",
     "shell.execute_reply.started": "2021-04-02T20:30:42.486604Z"
    },
    "scrolled": true
   },
   "outputs": [
    {
     "data": {
      "text/html": [
       "<table style=\"border-style: hidden; border-collapse: collapse;\" width=\"100%\"><tr><td style=\"border-top:hidden;border-bottom:hidden;\"><div align=\"center\" style=\"\"><table style=\"border:1px solid black;\">\n",
       "<tr><th colspan='1'></th><th colspan='2' style='border:1px solid black;color:black;background-color:#808080;'><center>L</center></th></tr>\n",
       "<tr><th style='border:1px solid black;color:black;background-color:#808080'><center>S</center></th><th style='border:1px solid black;border-bottom-style: double;color:black;background-color:#BBBBBB'><center>0</center></th><th style='border:1px solid black;border-bottom-style: double;color:black;background-color:#BBBBBB'><center>1</center></th></tr>\n",
       "<tr><th style='border:1px solid black;color:black;background-color:#BBBBBB'><center>0</center></th><td style='color:black;background-color:#c2bb64;text-align:right;'>0.4719</td><td style='color:black;background-color:#bbc264;text-align:right;'>0.5281</td></tr>\n",
       "<tr><th style='border:1px solid black;color:black;background-color:#BBBBBB'><center>1</center></th><td style='color:black;background-color:#97e664;text-align:right;'>0.8073</td><td style='color:black;background-color:#e69764;text-align:right;'>0.1927</td></tr>\n",
       "</table></div></td><td style=\"border-top:hidden;border-bottom:hidden;\"><div align=\"center\" style=\"\"><table style=\"border:1px solid black;\">\n",
       "<tr><th colspan='1'></th><th colspan='2' style='border:1px solid black;color:black;background-color:#808080;'><center>L</center></th></tr>\n",
       "<tr><th style='border:1px solid black;color:black;background-color:#808080'><center>S</center></th><th style='border:1px solid black;border-bottom-style: double;color:black;background-color:#BBBBBB'><center>0</center></th><th style='border:1px solid black;border-bottom-style: double;color:black;background-color:#BBBBBB'><center>1</center></th></tr>\n",
       "<tr><th style='border:1px solid black;color:black;background-color:#BBBBBB'><center>0</center></th><td style='color:black;background-color:#80fd64;text-align:right;'>0.9883</td><td style='color:black;background-color:#fd8064;text-align:right;'>0.0117</td></tr>\n",
       "<tr><th style='border:1px solid black;color:black;background-color:#BBBBBB'><center>1</center></th><td style='color:black;background-color:#8cf164;text-align:right;'>0.8947</td><td style='color:black;background-color:#f18c64;text-align:right;'>0.1053</td></tr>\n",
       "</table></div></td></tr><tr><td style=\"border-top:hidden;border-bottom:hidden;\"><div align=\"center\"><small><h3>Original BN</small></div></td><td style=\"border-top:hidden;border-bottom:hidden;\"><div align=\"center\"><small><h3>learned BN</h3></small></div></td></tr></table>"
      ],
      "text/plain": [
       "<IPython.core.display.HTML object>"
      ]
     },
     "metadata": {},
     "output_type": "display_data"
    }
   ],
   "source": [
    "gnb.sideBySide(bn.cpt(3),\n",
    "               bn2.cpt(3),\n",
    "               captions=[\"<h3>Original BN\",\"<h3>learned BN</h3>\"])"
   ]
  },
  {
   "cell_type": "markdown",
   "metadata": {},
   "source": [
    "## Influence of the size of the database on the quality of learned parameters"
   ]
  },
  {
   "cell_type": "markdown",
   "metadata": {},
   "source": [
    "What is the effect of increasing the size of the database on the KL ? We expect that the KL decreases to 0."
   ]
  },
  {
   "cell_type": "code",
   "execution_count": 63,
   "metadata": {
    "ExecuteTime": {
     "end_time": "2019-02-25T16:10:12.870326Z",
     "start_time": "2019-02-25T16:09:53.849931Z"
    },
    "execution": {
     "iopub.execute_input": "2021-04-02T20:30:42.501605Z",
     "iopub.status.busy": "2021-04-02T20:30:42.501605Z",
     "iopub.status.idle": "2021-04-02T20:30:52.112604Z",
     "shell.execute_reply": "2021-04-02T20:30:52.111603Z",
     "shell.execute_reply.started": "2021-04-02T20:30:42.501605Z"
    }
   },
   "outputs": [
    {
     "ename": "ValueError",
     "evalue": "cannot reshape array of size 6 into shape (2,2,2)",
     "output_type": "error",
     "traceback": [
      "\u001b[0;31m---------------------------------------------------------------------------\u001b[0m",
      "\u001b[0;31mValueError\u001b[0m                                Traceback (most recent call last)",
      "\u001b[0;32m<ipython-input-63-6e62e1272f29>\u001b[0m in \u001b[0;36m<module>\u001b[0;34m\u001b[0m\n\u001b[1;32m      1\u001b[0m \u001b[0mres\u001b[0m\u001b[0;34m=\u001b[0m\u001b[0;34m[\u001b[0m\u001b[0;34m]\u001b[0m\u001b[0;34m\u001b[0m\u001b[0;34m\u001b[0m\u001b[0m\n\u001b[1;32m      2\u001b[0m \u001b[0;32mfor\u001b[0m \u001b[0mi\u001b[0m \u001b[0;32min\u001b[0m \u001b[0mrange\u001b[0m\u001b[0;34m(\u001b[0m\u001b[0;36m200\u001b[0m\u001b[0;34m,\u001b[0m\u001b[0;36m10001\u001b[0m\u001b[0;34m,\u001b[0m\u001b[0;36m50\u001b[0m\u001b[0;34m)\u001b[0m\u001b[0;34m:\u001b[0m\u001b[0;34m\u001b[0m\u001b[0;34m\u001b[0m\u001b[0m\n\u001b[0;32m----> 3\u001b[0;31m     \u001b[0mParametersLearning\u001b[0m\u001b[0;34m(\u001b[0m\u001b[0mbn2\u001b[0m\u001b[0;34m,\u001b[0m\u001b[0mdf\u001b[0m\u001b[0;34m[\u001b[0m\u001b[0;34m:\u001b[0m\u001b[0mi\u001b[0m\u001b[0;34m]\u001b[0m\u001b[0;34m)\u001b[0m\u001b[0;34m\u001b[0m\u001b[0;34m\u001b[0m\u001b[0m\n\u001b[0m\u001b[1;32m      4\u001b[0m     \u001b[0mg1\u001b[0m\u001b[0;34m=\u001b[0m\u001b[0mgum\u001b[0m\u001b[0;34m.\u001b[0m\u001b[0mExactBNdistance\u001b[0m\u001b[0;34m(\u001b[0m\u001b[0mbn\u001b[0m\u001b[0;34m,\u001b[0m\u001b[0mbn2\u001b[0m\u001b[0;34m)\u001b[0m\u001b[0;34m\u001b[0m\u001b[0;34m\u001b[0m\u001b[0m\n\u001b[1;32m      5\u001b[0m     \u001b[0mres\u001b[0m\u001b[0;34m.\u001b[0m\u001b[0mappend\u001b[0m\u001b[0;34m(\u001b[0m\u001b[0mg1\u001b[0m\u001b[0;34m.\u001b[0m\u001b[0mcompute\u001b[0m\u001b[0;34m(\u001b[0m\u001b[0;34m)\u001b[0m\u001b[0;34m[\u001b[0m\u001b[0;34m'klPQ'\u001b[0m\u001b[0;34m]\u001b[0m\u001b[0;34m)\u001b[0m\u001b[0;34m\u001b[0m\u001b[0;34m\u001b[0m\u001b[0m\n",
      "\u001b[0;32m<ipython-input-59-9f6daf076e30>\u001b[0m in \u001b[0;36mParametersLearning\u001b[0;34m(bn, df)\u001b[0m\n\u001b[1;32m     23\u001b[0m     \"\"\"\n\u001b[1;32m     24\u001b[0m     \u001b[0;32mfor\u001b[0m \u001b[0mname\u001b[0m \u001b[0;32min\u001b[0m \u001b[0mbn\u001b[0m\u001b[0;34m.\u001b[0m\u001b[0mnames\u001b[0m\u001b[0;34m(\u001b[0m\u001b[0;34m)\u001b[0m\u001b[0;34m:\u001b[0m\u001b[0;34m\u001b[0m\u001b[0;34m\u001b[0m\u001b[0m\n\u001b[0;32m---> 25\u001b[0;31m         \u001b[0mcomputeCPTfromDF\u001b[0m\u001b[0;34m(\u001b[0m\u001b[0mbn\u001b[0m\u001b[0;34m,\u001b[0m\u001b[0mdf\u001b[0m\u001b[0;34m,\u001b[0m\u001b[0mname\u001b[0m\u001b[0;34m)\u001b[0m\u001b[0;34m\u001b[0m\u001b[0;34m\u001b[0m\u001b[0m\n\u001b[0m",
      "\u001b[0;32m<ipython-input-59-9f6daf076e30>\u001b[0m in \u001b[0;36mcomputeCPTfromDF\u001b[0;34m(bn, df, name)\u001b[0m\n\u001b[1;32m     16\u001b[0m         \u001b[0ms\u001b[0m\u001b[0;34m=\u001b[0m\u001b[0mdf\u001b[0m\u001b[0;34m[\u001b[0m\u001b[0mname\u001b[0m\u001b[0;34m]\u001b[0m\u001b[0;34m.\u001b[0m\u001b[0mvalue_counts\u001b[0m\u001b[0;34m(\u001b[0m\u001b[0mnormalize\u001b[0m\u001b[0;34m=\u001b[0m\u001b[0;32mTrue\u001b[0m\u001b[0;34m)\u001b[0m\u001b[0;34m\u001b[0m\u001b[0;34m\u001b[0m\u001b[0m\n\u001b[1;32m     17\u001b[0m \u001b[0;34m\u001b[0m\u001b[0m\n\u001b[0;32m---> 18\u001b[0;31m     \u001b[0mbn\u001b[0m\u001b[0;34m.\u001b[0m\u001b[0mcpt\u001b[0m\u001b[0;34m(\u001b[0m\u001b[0mid\u001b[0m\u001b[0;34m)\u001b[0m\u001b[0;34m[\u001b[0m\u001b[0;34m:\u001b[0m\u001b[0;34m]\u001b[0m\u001b[0;34m=\u001b[0m\u001b[0mnp\u001b[0m\u001b[0;34m.\u001b[0m\u001b[0marray\u001b[0m\u001b[0;34m(\u001b[0m\u001b[0;34m(\u001b[0m\u001b[0ms\u001b[0m\u001b[0;34m)\u001b[0m\u001b[0;34m.\u001b[0m\u001b[0mtranspose\u001b[0m\u001b[0;34m(\u001b[0m\u001b[0;34m)\u001b[0m\u001b[0;34m)\u001b[0m\u001b[0;34m.\u001b[0m\u001b[0mreshape\u001b[0m\u001b[0;34m(\u001b[0m\u001b[0;34m*\u001b[0m\u001b[0mdomains\u001b[0m\u001b[0;34m)\u001b[0m\u001b[0;34m\u001b[0m\u001b[0;34m\u001b[0m\u001b[0m\n\u001b[0m\u001b[1;32m     19\u001b[0m \u001b[0;34m\u001b[0m\u001b[0m\n\u001b[1;32m     20\u001b[0m \u001b[0;32mdef\u001b[0m \u001b[0mParametersLearning\u001b[0m\u001b[0;34m(\u001b[0m\u001b[0mbn\u001b[0m\u001b[0;34m,\u001b[0m\u001b[0mdf\u001b[0m\u001b[0;34m)\u001b[0m\u001b[0;34m:\u001b[0m\u001b[0;34m\u001b[0m\u001b[0;34m\u001b[0m\u001b[0m\n",
      "\u001b[0;31mValueError\u001b[0m: cannot reshape array of size 6 into shape (2,2,2)"
     ]
    }
   ],
   "source": [
    "res=[]\n",
    "for i in range(200,10001,50):\n",
    "    ParametersLearning(bn2,df[:i])\n",
    "    g1=gum.ExactBNdistance(bn,bn2)\n",
    "    res.append(g1.compute()['klPQ'])\n",
    "fig=figure(figsize=(10,6))\n",
    "ax  = fig.add_subplot(1, 1, 1)\n",
    "ax.plot(range(200,10001,50),res)\n",
    "ax.set_xlabel(\"size of the database\")\n",
    "ax.set_ylabel(\"KL\")\n",
    "t=ax.set_title(\"klPQ(bn,learnedBN(x))\")"
   ]
  },
  {
   "cell_type": "code",
   "execution_count": null,
   "metadata": {},
   "outputs": [],
   "source": []
  }
 ],
 "metadata": {
  "hide_input": false,
  "kernelspec": {
   "display_name": "Python 3",
   "language": "python",
   "name": "python3"
  },
  "language_info": {
   "codemirror_mode": {
    "name": "ipython",
    "version": 3
   },
   "file_extension": ".py",
   "mimetype": "text/x-python",
   "name": "python",
   "nbconvert_exporter": "python",
   "pygments_lexer": "ipython3",
   "version": "3.8.0"
  },
  "toc": {
   "base_numbering": 1,
   "nav_menu": {},
   "number_sections": true,
   "sideBar": true,
   "skip_h1_title": false,
   "title_cell": "Table of Contents",
   "title_sidebar": "Contents",
   "toc_cell": false,
   "toc_position": {},
   "toc_section_display": true,
   "toc_window_display": false
  }
 },
 "nbformat": 4,
 "nbformat_minor": 4
}
