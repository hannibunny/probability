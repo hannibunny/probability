{
 "cells": [
  {
   "cell_type": "markdown",
   "id": "e40f4613",
   "metadata": {},
   "source": [
    "# Estimating Probabilities\n",
    "\n",
    "In Artificial Intelligence, Data Science and Machine Learning we often have data, which is structured like this:\n",
    "\n",
    "<figure align=\"center\">\n",
    "<img src=\"https://maucher.home.hdm-stuttgart.de/Pics/datascheme.png\" style=\"width:500px\" align=\"center\">\n",
    "</figure>\n",
    "    \n",
    "The dataset consists of $Z$ instances, each instance is described by the values of $N$ random variables $X_1,X_2,\\ldots,X_N$. For example, each instance refers to a person, which is described by the $N=4$ random variables \n",
    "    \n",
    "$$\n",
    "Age, \\; Weight,\\; Height, \\; Marital Status.\n",
    "$$"
   ]
  },
  {
   "cell_type": "markdown",
   "id": "123bd15b",
   "metadata": {},
   "source": [
    "Subject of this section is the **estimation of probabilities from datasets**. More concrete we distinguish\n",
    "* estimation of univariate discrete probability distributions\n",
    "* estimation of univariate continuous probability distributions\n",
    "* estimation of multivariate discrete probability distributions\n",
    "* estimation of multivariate continuous probability distributions "
   ]
  },
  {
   "cell_type": "markdown",
   "id": "8669ed93",
   "metadata": {},
   "source": [
    "**Notation:** In this section the notation is as follows\n",
    "* $T$ is the available dataset, consisting of $Z$ instances.\n",
    "* $X$ is a random variable\n",
    "* $V(X)$ is the set of possible values, which can be taken by $X$\n",
    "* $P(X=x_i)$ is the estimated probability, that variable $X$ takes the value $x_i$.\n",
    "* $\\#x_i$ is the number of instances, for which $X=x_i$ is true"
   ]
  },
  {
   "cell_type": "markdown",
   "id": "9ae50f66",
   "metadata": {},
   "source": [
    "## Univariate Distribution\n",
    "\n",
    "### Discrete\n",
    "For a discrete random variable $X$ the probability $P(X=x_i)$ can be estimated from a dataset of $Z$ instances by just counting the number of instances for which $X=x_i$ is true and dividing this frequency by $Z$:\n",
    "\n",
    "$$\n",
    "P(X=x_i) = \\frac{\\# x_i}{Z} \\quad \\forall x_i \\in V(X).\n",
    "$$\n",
    "\n",
    "The set of estimated $P(X=x_i)$ for all $x_i \\in V(X)$, is the estimated probability distribution (proability mass function) of $X$."
   ]
  },
  {
   "cell_type": "markdown",
   "id": "de4fa7bd",
   "metadata": {},
   "source": [
    "**Example:** In a sample of $Z=20$ families the numbers of children per family are:"
   ]
  },
  {
   "cell_type": "code",
   "execution_count": 1,
   "id": "f5cc49ba",
   "metadata": {},
   "outputs": [],
   "source": [
    "children=[2,2,0,1,4,3,3,0,2,1,0,5,4,2,2,2,3,1,1,1]"
   ]
  },
  {
   "cell_type": "markdown",
   "id": "707052f2",
   "metadata": {},
   "source": [
    "From this sample the probabilities for the number of childrens per family can be estimated by just counting how often a *number-of-childrens* occurs and dividing this number by the total number $Z$ of families (here $Z=20$)."
   ]
  },
  {
   "cell_type": "code",
   "execution_count": 2,
   "id": "18af042f",
   "metadata": {
    "tags": [
     "hide-input"
    ]
   },
   "outputs": [
    {
     "name": "stdout",
     "output_type": "stream",
     "text": [
      "Est. prob. P(children=0) is 0.15\n",
      "Est. prob. P(children=1) is 0.25\n",
      "Est. prob. P(children=2) is 0.30\n",
      "Est. prob. P(children=3) is 0.15\n",
      "Est. prob. P(children=4) is 0.10\n",
      "Est. prob. P(children=5) is 0.05\n"
     ]
    }
   ],
   "source": [
    "probs=[]\n",
    "Z=len(children)\n",
    "for c in range(6):\n",
    "    count=len([z for z in children if z==c])\n",
    "    p=count/Z\n",
    "    probs.append(p)\n",
    "    print(\"Est. prob. P(children={}) is {:1.2f}\".format(c,p) )"
   ]
  },
  {
   "cell_type": "markdown",
   "id": "09e16c32",
   "metadata": {},
   "source": [
    "These estimated probabilities define the estimated probability mass function, which is plotted below:"
   ]
  },
  {
   "cell_type": "code",
   "execution_count": 3,
   "id": "9895c48e",
   "metadata": {
    "tags": [
     "hide-input"
    ]
   },
   "outputs": [
    {
     "data": {
      "image/png": "[encoded data removed]",
      "text/plain": [
       "<Figure size 640x480 with 1 Axes>"
      ]
     },
     "metadata": {
      "filenames": {
       "image/png": "/Users/johannes/gitprojects/probability/prob/_build/jupyter_execute/estimateProbability_9_0.png"
      }
     },
     "output_type": "display_data"
    }
   ],
   "source": [
    "from matplotlib import pyplot as plt\n",
    "plt.stem(range(6),probs)\n",
    "plt.title(\"Estimated Probability Mass Function\")\n",
    "plt.xlabel(\"children per family\")\n",
    "plt.ylabel(\"P(children)\")\n",
    "plt.show()"
   ]
  },
  {
   "cell_type": "markdown",
   "id": "8960baff",
   "metadata": {},
   "source": [
    "### Continuous\n",
    "\n",
    "For estimating the probability distribution (probability density function) of continuous random variables, one must\n",
    "1. assume a certain type of distribution, e.g. Gaussian Distribution\n",
    "2. estimate the parameters, which uniquely define the concrete function of the assumed type.\n",
    "\n",
    "By far the most common type of continuous random variable is the Gaussion distribution, whose probability density function is defined by:\n",
    "\n",
    "$$p_X(x)=\\frac{1}{\\sqrt{2\\pi}\\sigma} e^{-\\frac{(x-\\mu)^2}{2\\sigma^2}}, \n",
    "$$\n",
    "\n",
    "This function has two parameters:\n",
    "* mean value $\\mu$\n",
    "* standard deviation $\\sigma$.\n",
    "\n",
    "From a given set of $Z$ samples the mean $\\mu$ is estimated by \n",
    "\n",
    "$$\n",
    "m=\\frac{1}{Z}\\sum\\limits_{i=1}^Z x_i \n",
    "$$\n",
    "\n",
    "and the estimate for the standard deviation is\n",
    "\n",
    "$$\n",
    "s=\\sqrt{\\frac{1}{Z-1}\\sum_{i=1}^Z (x_i-m)^2}.\n",
    "$$"
   ]
  },
  {
   "cell_type": "markdown",
   "id": "5af1df43",
   "metadata": {},
   "source": [
    "**Example:** The measrued weights (in kg) for a sample of $Z=10$ adults are:"
   ]
  },
  {
   "cell_type": "code",
   "execution_count": 4,
   "id": "3c1ef157",
   "metadata": {},
   "outputs": [],
   "source": [
    "weights=[67,58,72,98,87,75,54,86,90,77]"
   ]
  },
  {
   "cell_type": "markdown",
   "id": "39f03810",
   "metadata": {},
   "source": [
    "The estimated mean is then:"
   ]
  },
  {
   "cell_type": "code",
   "execution_count": 5,
   "id": "62d64509",
   "metadata": {
    "tags": [
     "hide-input"
    ]
   },
   "outputs": [
    {
     "name": "stdout",
     "output_type": "stream",
     "text": [
      "Estimated mean = 76.40\n"
     ]
    }
   ],
   "source": [
    "import numpy as np\n",
    "np.set_printoptions(precision=2)\n",
    "m=1/10*np.sum(weights)\n",
    "print(\"Estimated mean = {:3.2f}\".format(m))"
   ]
  },
  {
   "cell_type": "markdown",
   "id": "a6031e0a",
   "metadata": {},
   "source": [
    "And the estimated standard deviation is:"
   ]
  },
  {
   "cell_type": "code",
   "execution_count": 6,
   "id": "e7661c7c",
   "metadata": {
    "scrolled": true,
    "tags": [
     "hide-input"
    ]
   },
   "outputs": [
    {
     "name": "stdout",
     "output_type": "stream",
     "text": [
      "Estimated standard deviation = 14.17\n"
     ]
    }
   ],
   "source": [
    "s=np.sqrt(1/(10-1)*np.sum([(w-m)**2 for w in weights]))\n",
    "print(\"Estimated standard deviation = {:3.2f}\".format(s))"
   ]
  },
  {
   "cell_type": "markdown",
   "id": "ccb1f176",
   "metadata": {},
   "source": [
    "The estimated probability density function is then:"
   ]
  },
  {
   "cell_type": "code",
   "execution_count": 7,
   "id": "42d6ecba",
   "metadata": {
    "tags": [
     "hide-input"
    ]
   },
   "outputs": [
    {
     "data": {
      "image/png": "[encoded data removed]",
      "text/plain": [
       "<Figure size 640x480 with 1 Axes>"
      ]
     },
     "metadata": {
      "filenames": {
       "image/png": "/Users/johannes/gitprojects/probability/prob/_build/jupyter_execute/estimateProbability_18_0.png"
      }
     },
     "output_type": "display_data"
    }
   ],
   "source": [
    "x=np.arange(20,140,0.2)\n",
    "prob=1/(s * np.sqrt(2 * np.pi))*np.exp( - (x - m)**2 / (2 * s**2) )\n",
    "plt.plot(x,prob,'r')\n",
    "plt.fill_between(x,prob,color=\"red\",alpha=0.4)\n",
    "plt.text(20,0.02,\"Mean: %2.2f  \\nStd. Dev. %2.2f\" % (m,s))\n",
    "plt.title(\"PDF of Gaussian distributed Variable weight\")\n",
    "plt.grid(True)\n",
    "plt.show()"
   ]
  },
  {
   "cell_type": "markdown",
   "id": "8f593c7f",
   "metadata": {},
   "source": [
    "## Multivariate Distribution\n",
    "\n",
    "### Discrete\n",
    "\n",
    "For a set of $N$ random variables $X_1,X_2,\\ldots,X_N$ each **joint probability** \n",
    "\n",
    "$$\n",
    "P(X_1=x_{i_1},X_2=x_{i_2}, \\ldots, X_N=x_{i_N}) \\quad \\mbox{ or for short} \\quad P(x_{i_1},x_{i_2}, \\ldots, x_{i_N})\n",
    "$$\n",
    "\n",
    "can be estimated from a dataset $T$ of $Z$ instances, by just counting how many instances with \n",
    "\n",
    "$$\n",
    "X_1=x_{i_1} \\mbox{ and } X_2=x_{i_2} \\mbox{ and } \\cdots, \\mbox{ and } X_N=x_{i_N}\n",
    "$$\n",
    "\n",
    "occur in $T$. If this number is denoted by $\\#(x_{i_1},x_{i_2},\\ldots,x_{i_N})$, then the estimated joint probability is \n",
    "\n",
    "$$\n",
    "P(x_{i_1},x_{i_2}, \\ldots, x_{i_N}) =\\frac{\\#(x_{i_1},x_{i_2},\\ldots,x_{i_N})}{Z}\n",
    "$$\n",
    "\n"
   ]
  },
  {
   "cell_type": "markdown",
   "id": "bcba2a64",
   "metadata": {},
   "source": [
    "The set of all such estimated joint probabilities defines the **estimated joint probability distribution**. "
   ]
  },
  {
   "cell_type": "markdown",
   "id": "6cd450b2",
   "metadata": {},
   "source": [
    "**Example:** In a sample of $Z=20$ families the numbers of children per family are:\n"
   ]
  },
  {
   "cell_type": "code",
   "execution_count": 8,
   "id": "f00565b3",
   "metadata": {},
   "outputs": [],
   "source": [
    "children=[2,2,0,1,4,3,3,0,2,1,0,5,4,2,2,2,3,1,1,1]"
   ]
  },
  {
   "cell_type": "markdown",
   "id": "47c98be7",
   "metadata": {},
   "source": [
    "Moreover, for each of the 20 families it is also known if both parents, one parent or no parent is in work. This is specified in this vector (families are ordered in the same way as in the *children*-vector):"
   ]
  },
  {
   "cell_type": "code",
   "execution_count": 9,
   "id": "d372cd68",
   "metadata": {},
   "outputs": [],
   "source": [
    "inwork  =[1,2,2,2,1,1,0,2,1,2,2,1,1,1,1,2,2,2,2,1]"
   ]
  },
  {
   "cell_type": "markdown",
   "id": "4150366c",
   "metadata": {},
   "source": [
    "Below, this dataset is represented as a pandas dataframe:"
   ]
  },
  {
   "cell_type": "code",
   "execution_count": 10,
   "id": "6eaa0685",
   "metadata": {
    "tags": [
     "hide-input"
    ]
   },
   "outputs": [
    {
     "data": {
      "text/html": [
       "<div>\n",
       "<style scoped>\n",
       "    .dataframe tbody tr th:only-of-type {\n",
       "        vertical-align: middle;\n",
       "    }\n",
       "\n",
       "    .dataframe tbody tr th {\n",
       "        vertical-align: top;\n",
       "    }\n",
       "\n",
       "    .dataframe thead th {\n",
       "        text-align: right;\n",
       "    }\n",
       "</style>\n",
       "<table border=\"1\" class=\"dataframe\">\n",
       "  <thead>\n",
       "    <tr style=\"text-align: right;\">\n",
       "      <th></th>\n",
       "      <th>children</th>\n",
       "      <th>workparents</th>\n",
       "    </tr>\n",
       "  </thead>\n",
       "  <tbody>\n",
       "    <tr>\n",
       "      <th>0</th>\n",
       "      <td>2</td>\n",
       "      <td>1</td>\n",
       "    </tr>\n",
       "    <tr>\n",
       "      <th>1</th>\n",
       "      <td>2</td>\n",
       "      <td>2</td>\n",
       "    </tr>\n",
       "    <tr>\n",
       "      <th>2</th>\n",
       "      <td>0</td>\n",
       "      <td>2</td>\n",
       "    </tr>\n",
       "    <tr>\n",
       "      <th>3</th>\n",
       "      <td>1</td>\n",
       "      <td>2</td>\n",
       "    </tr>\n",
       "    <tr>\n",
       "      <th>4</th>\n",
       "      <td>4</td>\n",
       "      <td>1</td>\n",
       "    </tr>\n",
       "    <tr>\n",
       "      <th>5</th>\n",
       "      <td>3</td>\n",
       "      <td>1</td>\n",
       "    </tr>\n",
       "    <tr>\n",
       "      <th>6</th>\n",
       "      <td>3</td>\n",
       "      <td>0</td>\n",
       "    </tr>\n",
       "    <tr>\n",
       "      <th>7</th>\n",
       "      <td>0</td>\n",
       "      <td>2</td>\n",
       "    </tr>\n",
       "    <tr>\n",
       "      <th>8</th>\n",
       "      <td>2</td>\n",
       "      <td>1</td>\n",
       "    </tr>\n",
       "    <tr>\n",
       "      <th>9</th>\n",
       "      <td>1</td>\n",
       "      <td>2</td>\n",
       "    </tr>\n",
       "    <tr>\n",
       "      <th>10</th>\n",
       "      <td>0</td>\n",
       "      <td>2</td>\n",
       "    </tr>\n",
       "    <tr>\n",
       "      <th>11</th>\n",
       "      <td>5</td>\n",
       "      <td>1</td>\n",
       "    </tr>\n",
       "    <tr>\n",
       "      <th>12</th>\n",
       "      <td>4</td>\n",
       "      <td>1</td>\n",
       "    </tr>\n",
       "    <tr>\n",
       "      <th>13</th>\n",
       "      <td>2</td>\n",
       "      <td>1</td>\n",
       "    </tr>\n",
       "    <tr>\n",
       "      <th>14</th>\n",
       "      <td>2</td>\n",
       "      <td>1</td>\n",
       "    </tr>\n",
       "    <tr>\n",
       "      <th>15</th>\n",
       "      <td>2</td>\n",
       "      <td>2</td>\n",
       "    </tr>\n",
       "    <tr>\n",
       "      <th>16</th>\n",
       "      <td>3</td>\n",
       "      <td>2</td>\n",
       "    </tr>\n",
       "    <tr>\n",
       "      <th>17</th>\n",
       "      <td>1</td>\n",
       "      <td>2</td>\n",
       "    </tr>\n",
       "    <tr>\n",
       "      <th>18</th>\n",
       "      <td>1</td>\n",
       "      <td>2</td>\n",
       "    </tr>\n",
       "    <tr>\n",
       "      <th>19</th>\n",
       "      <td>1</td>\n",
       "      <td>1</td>\n",
       "    </tr>\n",
       "  </tbody>\n",
       "</table>\n",
       "</div>"
      ],
      "text/plain": [
       "    children  workparents\n",
       "0          2            1\n",
       "1          2            2\n",
       "2          0            2\n",
       "3          1            2\n",
       "4          4            1\n",
       "5          3            1\n",
       "6          3            0\n",
       "7          0            2\n",
       "8          2            1\n",
       "9          1            2\n",
       "10         0            2\n",
       "11         5            1\n",
       "12         4            1\n",
       "13         2            1\n",
       "14         2            1\n",
       "15         2            2\n",
       "16         3            2\n",
       "17         1            2\n",
       "18         1            2\n",
       "19         1            1"
      ]
     },
     "execution_count": 10,
     "metadata": {},
     "output_type": "execute_result"
    }
   ],
   "source": [
    "import pandas as pd\n",
    "famData=pd.DataFrame({\"children\":children,\"workparents\":inwork})\n",
    "famData"
   ]
  },
  {
   "cell_type": "markdown",
   "id": "c89f5717",
   "metadata": {},
   "source": [
    "Having, the data in a pandas dataframe, it is easy to calculate the estimated joint probabilities, by applying the method `crosstab()` as follows:"
   ]
  },
  {
   "cell_type": "code",
   "execution_count": 11,
   "id": "ece404c3",
   "metadata": {
    "tags": [
     "hide-input"
    ]
   },
   "outputs": [
    {
     "data": {
      "text/html": [
       "<div>\n",
       "<style scoped>\n",
       "    .dataframe tbody tr th:only-of-type {\n",
       "        vertical-align: middle;\n",
       "    }\n",
       "\n",
       "    .dataframe tbody tr th {\n",
       "        vertical-align: top;\n",
       "    }\n",
       "\n",
       "    .dataframe thead th {\n",
       "        text-align: right;\n",
       "    }\n",
       "</style>\n",
       "<table border=\"1\" class=\"dataframe\">\n",
       "  <thead>\n",
       "    <tr style=\"text-align: right;\">\n",
       "      <th>workparents</th>\n",
       "      <th>0</th>\n",
       "      <th>1</th>\n",
       "      <th>2</th>\n",
       "    </tr>\n",
       "    <tr>\n",
       "      <th>children</th>\n",
       "      <th></th>\n",
       "      <th></th>\n",
       "      <th></th>\n",
       "    </tr>\n",
       "  </thead>\n",
       "  <tbody>\n",
       "    <tr>\n",
       "      <th>0</th>\n",
       "      <td>0.00</td>\n",
       "      <td>0.00</td>\n",
       "      <td>0.15</td>\n",
       "    </tr>\n",
       "    <tr>\n",
       "      <th>1</th>\n",
       "      <td>0.00</td>\n",
       "      <td>0.05</td>\n",
       "      <td>0.20</td>\n",
       "    </tr>\n",
       "    <tr>\n",
       "      <th>2</th>\n",
       "      <td>0.00</td>\n",
       "      <td>0.20</td>\n",
       "      <td>0.10</td>\n",
       "    </tr>\n",
       "    <tr>\n",
       "      <th>3</th>\n",
       "      <td>0.05</td>\n",
       "      <td>0.05</td>\n",
       "      <td>0.05</td>\n",
       "    </tr>\n",
       "    <tr>\n",
       "      <th>4</th>\n",
       "      <td>0.00</td>\n",
       "      <td>0.10</td>\n",
       "      <td>0.00</td>\n",
       "    </tr>\n",
       "    <tr>\n",
       "      <th>5</th>\n",
       "      <td>0.00</td>\n",
       "      <td>0.05</td>\n",
       "      <td>0.00</td>\n",
       "    </tr>\n",
       "  </tbody>\n",
       "</table>\n",
       "</div>"
      ],
      "text/plain": [
       "workparents     0     1     2\n",
       "children                     \n",
       "0            0.00  0.00  0.15\n",
       "1            0.00  0.05  0.20\n",
       "2            0.00  0.20  0.10\n",
       "3            0.05  0.05  0.05\n",
       "4            0.00  0.10  0.00\n",
       "5            0.00  0.05  0.00"
      ]
     },
     "execution_count": 11,
     "metadata": {},
     "output_type": "execute_result"
    }
   ],
   "source": [
    "pd.crosstab(famData.children,famData.workparents,normalize=\"all\")"
   ]
  },
  {
   "cell_type": "markdown",
   "id": "d2ad1692",
   "metadata": {},
   "source": [
    "For example there are 4 families in $T$, which have 1 child and where both parents are in work. The estimated joint probability is then:\n",
    "\n",
    "$$\n",
    "P(children=1,inwork=2)=\\frac{4}{20}=0.2\n",
    "$$"
   ]
  },
  {
   "cell_type": "markdown",
   "id": "49f13d09",
   "metadata": {},
   "source": [
    "### Continuous\n",
    "\n",
    "In the case of multiple continuous random variables, in nearly all practical cases one of two options is applied:\n",
    "\n",
    "1. One (naively) assumes that all variables are independent of each other. Then the joint probability distribution is estimated as the product of the estimated univariate distributions \n",
    "\n",
    "2. The $N$ continuous random variables are assumed to be jointly Gaussian distributed\n",
    "\n",
    "In this section we consider the second case, i.e. we assume, that the $N$ random variables are jointly Gaussian distributed.\n",
    "\n",
    "Recall that the joint probability function for **multi-dimensional Gaussian distribution**, is defined by:\n",
    "\n",
    "$$\n",
    "  p(\\mathbf{x})=\\frac{1}{(2 \\pi)^{d/2} |\\Sigma|^{1/2}} \\exp\\left[-\\frac{1}{2}(\\mathbf{x}- \\boldsymbol\\mu)^T \\Sigma^{-1}(\\mathbf{x}-\\boldsymbol\\mu)\\right] , \\quad -\\infty < x < \\infty, \n",
    "$$\n",
    "\n",
    "where\n",
    "\n",
    "* $\\mathbf{x}=\\left[x_1,x_2,\\ldots,x_N \\right]$ are the values of $N$ random variables, which are jointly Gaussian distributed.\n",
    "\n",
    "* $\\mathbf{\\mu}=[\\mu_1,\\mu_2,\\ldots, \\mu_N]$ is mean-value-vektor\n",
    "* and\n",
    "\n",
    "$$\n",
    "\\Sigma = \\left(\n",
    "\t\\begin{array}{cccc}\n",
    "\t\\sigma_{11}^2 & \\sigma_{12} &\\cdots & \\sigma_{1N} \\\\\n",
    "\t\\sigma_{21} & \\sigma_{22}^2 &\\cdots & \\sigma_{2N} \\\\\n",
    "\t\\vdots      & \\vdots      & \\ddots &  \\vdots \\\\\n",
    "\t\\sigma_{N1} & \\sigma_{N2} & \\cdots & \\sigma_{NN}^2 \\\\\n",
    "\t\\end{array} \\right)\n",
    "$$\n",
    "\n",
    "is the Covariance Matrix. In this matrix the elements on the principal diagonal $\\sigma_{ii}^2$ are the variances along the corresponding axis. All other elements are covariances, which describe the correlation between the axes. If $\\sigma_{ij}=0$, then the random variables $X_i$ and $X_j$ are not correlated. The higher the absolute value of $\\sigma_{ij}$, the stronger the correlation. "
   ]
  },
  {
   "cell_type": "markdown",
   "id": "a62e485b",
   "metadata": {},
   "source": [
    "From the variances and the covariances the **linear correlation-coefficient $\\rho_{ij}$** can be calculated as follows:\n",
    "\n",
    "$$\n",
    "\\rho_{ij}=\\frac{\\sigma_{ij}}{\\sigma_{ii} \\sigma_{jj}}\n",
    "$$\n",
    "\n",
    "The correlation coefficient has a value-range from $-1$ to $1$ and helps to better *quantify* the correlation between the axis."
   ]
  },
  {
   "cell_type": "markdown",
   "id": "fa361d2c",
   "metadata": {},
   "source": [
    "In order to estimate a multi-dimensional Gaussian distribution from a dataset $T$, the mean-value-vektor $\\mathbf{\\mu}$ and the covariance matrix $\\mathbf{\\sigma}$ must be estimated. \n",
    "\n",
    "We denote the **estimation of the mean-value-vektor $\\mu$** by $m=[m_1,m_2,\\ldots m_N]$. The components of this vektor are just the columnwise mean-values of the datamatrix:\n",
    "\n",
    "$$\n",
    "m_i=\\frac{1}{Z}\\sum_{k=1}^Z x_{k,i} \\quad \\forall i \\in \\left\\{ 1,N \\right\\}, \n",
    "$$\n",
    "\n",
    "where $x_{k,i}$ is the value of random variable $X_i$ of instance $k$.\n",
    "\n",
    "Moreover, the **estimation of the covariance matrix $\\Sigma$** is denoted by $S$. And the components of $S$ are \n",
    "\n",
    "* the estimations of the variances $\\sigma_{ii}^2$, which are denoted by $s_{ii}^2$\n",
    "* the estimations of the covariances $\\sigma_{ij}$, which are denoted by $s_{ij}$.\n",
    "\n",
    "From a given dataset $T$ with $Z$ instances (rows) and $N$ random variables (columns), the variances and covariances are estimated as follows:\n",
    "\n",
    "$$\n",
    "s_{ii}^2=\\frac{1}{Z-1}\\sum_{k=1}^Z (x_{k,i}-m_i)^2\n",
    "$$\n",
    "\n",
    "$$\n",
    "s_{ij}=\\frac{1}{Z-1}\\sum_{k=1}^Z (x_{k,i}-m_i) \\cdot (x_{k,j}-m_j)\n",
    "$$"
   ]
  },
  {
   "cell_type": "markdown",
   "id": "b85da115",
   "metadata": {},
   "source": [
    "**Example:** From a sample of 10 adults the weight in *kg* and the height in *cm* is given. These two random variables are assumed to be 2D-Gaussian distributed. In order to estimate the 2D-probability density function the mean-value-vektor $\\mathbf{\\mu}$ and the covariance-matrix $\\Sigma$ must be estimated from the given datasample."
   ]
  },
  {
   "cell_type": "markdown",
   "id": "38d56433",
   "metadata": {},
   "source": [
    "First we define the given dataset of 10 persons:"
   ]
  },
  {
   "cell_type": "code",
   "execution_count": 12,
   "id": "6ddcec1d",
   "metadata": {
    "tags": [
     "hide-input"
    ]
   },
   "outputs": [
    {
     "data": {
      "text/html": [
       "<div>\n",
       "<style scoped>\n",
       "    .dataframe tbody tr th:only-of-type {\n",
       "        vertical-align: middle;\n",
       "    }\n",
       "\n",
       "    .dataframe tbody tr th {\n",
       "        vertical-align: top;\n",
       "    }\n",
       "\n",
       "    .dataframe thead th {\n",
       "        text-align: right;\n",
       "    }\n",
       "</style>\n",
       "<table border=\"1\" class=\"dataframe\">\n",
       "  <thead>\n",
       "    <tr style=\"text-align: right;\">\n",
       "      <th></th>\n",
       "      <th>weight</th>\n",
       "      <th>height</th>\n",
       "    </tr>\n",
       "  </thead>\n",
       "  <tbody>\n",
       "    <tr>\n",
       "      <th>0</th>\n",
       "      <td>67</td>\n",
       "      <td>170</td>\n",
       "    </tr>\n",
       "    <tr>\n",
       "      <th>1</th>\n",
       "      <td>58</td>\n",
       "      <td>173</td>\n",
       "    </tr>\n",
       "    <tr>\n",
       "      <th>2</th>\n",
       "      <td>72</td>\n",
       "      <td>175</td>\n",
       "    </tr>\n",
       "    <tr>\n",
       "      <th>3</th>\n",
       "      <td>98</td>\n",
       "      <td>192</td>\n",
       "    </tr>\n",
       "    <tr>\n",
       "      <th>4</th>\n",
       "      <td>87</td>\n",
       "      <td>188</td>\n",
       "    </tr>\n",
       "    <tr>\n",
       "      <th>5</th>\n",
       "      <td>75</td>\n",
       "      <td>182</td>\n",
       "    </tr>\n",
       "    <tr>\n",
       "      <th>6</th>\n",
       "      <td>54</td>\n",
       "      <td>160</td>\n",
       "    </tr>\n",
       "    <tr>\n",
       "      <th>7</th>\n",
       "      <td>86</td>\n",
       "      <td>181</td>\n",
       "    </tr>\n",
       "    <tr>\n",
       "      <th>8</th>\n",
       "      <td>90</td>\n",
       "      <td>186</td>\n",
       "    </tr>\n",
       "    <tr>\n",
       "      <th>9</th>\n",
       "      <td>77</td>\n",
       "      <td>180</td>\n",
       "    </tr>\n",
       "  </tbody>\n",
       "</table>\n",
       "</div>"
      ],
      "text/plain": [
       "   weight  height\n",
       "0      67     170\n",
       "1      58     173\n",
       "2      72     175\n",
       "3      98     192\n",
       "4      87     188\n",
       "5      75     182\n",
       "6      54     160\n",
       "7      86     181\n",
       "8      90     186\n",
       "9      77     180"
      ]
     },
     "execution_count": 12,
     "metadata": {},
     "output_type": "execute_result"
    }
   ],
   "source": [
    "weights=[67,58,72,98,87,75,54,86,90,77]\n",
    "heights=[170,173,175,192,188,182,160,181,186,180]\n",
    "persons=pd.DataFrame()\n",
    "persons[\"weight\"]=weights\n",
    "persons[\"height\"]=heights\n",
    "persons"
   ]
  },
  {
   "cell_type": "markdown",
   "id": "0fbf5fe2",
   "metadata": {},
   "source": [
    "In order to estimate the mean-value-vektor we calculate the column-wise mean:"
   ]
  },
  {
   "cell_type": "code",
   "execution_count": 13,
   "id": "eace01ad",
   "metadata": {
    "scrolled": true,
    "tags": [
     "hide-input"
    ]
   },
   "outputs": [
    {
     "name": "stdout",
     "output_type": "stream",
     "text": [
      "Estimated Mean Vektor is m = 76.40,178.70\n"
     ]
    }
   ],
   "source": [
    "m_weights=1/10*np.sum(weights)\n",
    "m_heights=1/10*np.sum(heights)\n",
    "print(\"Estimated Mean Vektor is m = %3.2f,%6.2f\"%(m_weights,m_heights))\n",
    "est_mean=(m_weights,m_heights)"
   ]
  },
  {
   "cell_type": "markdown",
   "id": "e78bb068",
   "metadata": {},
   "source": [
    "Next we determine the estimation of the covariance matrix $\\Sigma$:\n",
    "    "
   ]
  },
  {
   "cell_type": "code",
   "execution_count": 14,
   "id": "f1da62bc",
   "metadata": {
    "tags": [
     "hide-input"
    ]
   },
   "outputs": [
    {
     "name": "stdout",
     "output_type": "stream",
     "text": [
      "Correlation between weight and height is 0.93\n",
      "Estimated covariance matrix is S = \n",
      " [[200.71 125.02]\n",
      " [125.02  89.57]]\n"
     ]
    }
   ],
   "source": [
    "var_weights=1/(10-1)*np.sum([(w-m_weights)**2 for w in weights])\n",
    "var_heights=1/(10-1)*np.sum([(h-m_heights)**2 for h in heights])\n",
    "cov=1/(10-1)*np.sum([(w-m_weights)*(h-m_heights) for w,h in zip(weights,heights)])\n",
    "corr=cov/np.sqrt(var_weights*var_heights)\n",
    "print(\"Correlation between weight and height is %1.2f\"%corr)\n",
    "est_cov=np.array([[var_weights,cov],[cov,var_heights]])\n",
    "print(\"Estimated covariance matrix is S = \\n\",est_cov)"
   ]
  },
  {
   "cell_type": "markdown",
   "id": "01a474aa",
   "metadata": {},
   "source": [
    "Next, the 10 datasamples and the 2-dimensional mean-vektor are plotted:"
   ]
  },
  {
   "cell_type": "code",
   "execution_count": 15,
   "id": "ccab105d",
   "metadata": {
    "tags": [
     "hide-input"
    ]
   },
   "outputs": [
    {
     "data": {
      "image/png": "[encoded data removed]",
      "text/plain": [
       "<Figure size 960x800 with 1 Axes>"
      ]
     },
     "metadata": {
      "filenames": {
       "image/png": "/Users/johannes/gitprojects/probability/prob/_build/jupyter_execute/estimateProbability_41_0.png"
      }
     },
     "output_type": "display_data"
    }
   ],
   "source": [
    "Numpoints=len(weights)\n",
    "plt.figure(num=None, figsize=(12, 10), dpi=80, facecolor='w', edgecolor='k')\n",
    "plt.plot(weights[:],heights[:],'o',ms=6,label=\"Persons\")\n",
    "plt.grid(True)\n",
    "plt.title(\"Multivariate Gaussian Distribution of \"+str(Numpoints)+\" samples\")\n",
    "plt.xlabel('weight[kg]',fontsize=16)\n",
    "plt.ylabel('height[cm]',fontsize=16)\n",
    "plt.plot([m_weights],[m_heights],'sr',ms=10,label=\"Mean: (\"+str(m_weights)+\",\"+\"%3.2f\"%m_heights+\")\")\n",
    "#plt.text(60,180,'s11='+str(s11)+'\\ns22='+str(s22)+'\\ncorr='+str(rho),fontsize=16,backgroundcolor='white')\n",
    "plt.legend(loc=2,numpoints=1)\n",
    "plt.show()"
   ]
  },
  {
   "cell_type": "markdown",
   "id": "25895bd8",
   "metadata": {},
   "source": [
    "From the estimated mean-vektor and covariance matrix the entire 2-dimensional Gaussian distribution can be derived. The 2D-proability density function is plotted below:"
   ]
  },
  {
   "cell_type": "code",
   "execution_count": 16,
   "id": "34240824",
   "metadata": {
    "tags": [
     "hide-input"
    ]
   },
   "outputs": [
    {
     "ename": "TypeError",
     "evalue": "gca() got an unexpected keyword argument 'projection'",
     "output_type": "error",
     "traceback": [
      "\u001b[0;31m---------------------------------------------------------------------------\u001b[0m",
      "\u001b[0;31mTypeError\u001b[0m                                 Traceback (most recent call last)",
      "\u001b[0;32m/var/folders/68/9tltm6l520v0stj3qjlc5v9w0000gn/T/ipykernel_24066/4212649082.py\u001b[0m in \u001b[0;36m<module>\u001b[0;34m\u001b[0m\n\u001b[1;32m     12\u001b[0m \u001b[0;31m##############################################################################################################\u001b[0m\u001b[0;34m\u001b[0m\u001b[0;34m\u001b[0m\u001b[0;34m\u001b[0m\u001b[0m\n\u001b[1;32m     13\u001b[0m \u001b[0mfig\u001b[0m \u001b[0;34m=\u001b[0m \u001b[0mplt\u001b[0m\u001b[0;34m.\u001b[0m\u001b[0mfigure\u001b[0m\u001b[0;34m(\u001b[0m\u001b[0mnum\u001b[0m\u001b[0;34m=\u001b[0m\u001b[0;32mNone\u001b[0m\u001b[0;34m,\u001b[0m \u001b[0mfigsize\u001b[0m\u001b[0;34m=\u001b[0m\u001b[0;34m(\u001b[0m\u001b[0;36m12\u001b[0m\u001b[0;34m,\u001b[0m \u001b[0;36m10\u001b[0m\u001b[0;34m)\u001b[0m\u001b[0;34m,\u001b[0m \u001b[0mdpi\u001b[0m\u001b[0;34m=\u001b[0m\u001b[0;36m80\u001b[0m\u001b[0;34m,\u001b[0m \u001b[0mfacecolor\u001b[0m\u001b[0;34m=\u001b[0m\u001b[0;34m'w'\u001b[0m\u001b[0;34m,\u001b[0m \u001b[0medgecolor\u001b[0m\u001b[0;34m=\u001b[0m\u001b[0;34m'k'\u001b[0m\u001b[0;34m)\u001b[0m\u001b[0;34m\u001b[0m\u001b[0;34m\u001b[0m\u001b[0m\n\u001b[0;32m---> 14\u001b[0;31m \u001b[0max\u001b[0m \u001b[0;34m=\u001b[0m \u001b[0mfig\u001b[0m\u001b[0;34m.\u001b[0m\u001b[0mgca\u001b[0m\u001b[0;34m(\u001b[0m\u001b[0mprojection\u001b[0m\u001b[0;34m=\u001b[0m\u001b[0;34m'3d'\u001b[0m\u001b[0;34m)\u001b[0m\u001b[0;34m\u001b[0m\u001b[0;34m\u001b[0m\u001b[0m\n\u001b[0m\u001b[1;32m     15\u001b[0m surf = ax.plot_surface(x,y,a,rstride=1, cstride=1, cmap=cm.jet,\n\u001b[1;32m     16\u001b[0m         linewidth=0.0, antialiased=False)\n",
      "\u001b[0;31mTypeError\u001b[0m: gca() got an unexpected keyword argument 'projection'"
     ]
    },
    {
     "data": {
      "text/plain": [
       "<Figure size 960x800 with 0 Axes>"
      ]
     },
     "metadata": {},
     "output_type": "display_data"
    }
   ],
   "source": [
    "from numpy import mgrid\n",
    "from matplotlib import cm\n",
    "x,y = mgrid[40:110:100j, 120:210:100j]\n",
    "[m1,m2]=est_mean\n",
    "s11=np.sqrt(est_cov[0,0])\n",
    "s22=np.sqrt(est_cov[1,1])\n",
    "corr=est_cov[0,1]/(s11*s22)\n",
    "\n",
    "\n",
    "#2-dimensionale Gaußverteilung nach Definition http://de.wikipedia.org/wiki/Mehrdimensionale_Normalverteilung\n",
    "a=1.0/(2*np.pi*s11*s22*np.sqrt(1-corr**2))*np.exp(-1.0/(2*(1-corr**2))*(((x-m1)**2)/(s11**2)+((y-m2)**2)/(s22**2)-2*corr*(x-m1)*(y-m2)/(s11*s22)))  \n",
    "##############################################################################################################\n",
    "fig = plt.figure(num=None, figsize=(12, 10), dpi=80, facecolor='w', edgecolor='k')\n",
    "ax = fig.gca(projection='3d')\n",
    "surf = ax.plot_surface(x,y,a,rstride=1, cstride=1, cmap=cm.jet,\n",
    "        linewidth=0.0, antialiased=False)\n",
    "#plt.text(0.5,0.5,0.2,'$\\sigma_{11}$='+str(s11)+'\\n$\\sigma_{22}$='+str(s22)+'\\n$corr$='+str(corr),fontsize=14,backgroundcolor='white')\n",
    "plt.title('s11='+str(s11)+'  s22 = '+str(s22)+'  corr ='+str(corr))\n",
    "plt.xlabel('weight[kg]')\n",
    "plt.ylabel('height[cm]')\n",
    "plt.show()"
   ]
  },
  {
   "cell_type": "markdown",
   "id": "ef829b0c",
   "metadata": {},
   "source": [
    "In order to better understand the estimated 2D-Gaussian distribution it's contour-plot is also visualized:"
   ]
  },
  {
   "cell_type": "code",
   "execution_count": 21,
   "id": "fa305144",
   "metadata": {
    "tags": [
     "hide-input"
    ]
   },
   "outputs": [
    {
     "data": {
      "image/png": "[encoded data removed]",
      "text/plain": [
       "<Figure size 960x800 with 1 Axes>"
      ]
     },
     "metadata": {
      "filenames": {
       "image/png": "/Users/johannes/gitprojects/probability/prob/_build/jupyter_execute/estimateProbability_45_0.png"
      }
     },
     "output_type": "display_data"
    }
   ],
   "source": [
    "fig = plt.figure(num=None, figsize=(12, 10), dpi=80, facecolor='w', edgecolor='k')\n",
    "ax = fig.gca()\n",
    "surf = ax.contour(x,y,a,cmap=cm.jet,antialiased=False)\n",
    "plt.text(50,205,'s11='+str(s11)+'  s22 = '+str(s22)+'  corr ='+str(corr))\n",
    "#plt.title('s11='+str(s11)+'  s22 = '+str(s22)+'  corr ='+str(corr))\n",
    "plt.xlabel('weight[kg]')\n",
    "plt.ylabel('height[cm]')\n",
    "plt.title(\"Contour Plot of 2D Gauss Distribution\")\n",
    "plt.show()"
   ]
  },
  {
   "cell_type": "code",
   "execution_count": null,
   "id": "3fd2a3a9",
   "metadata": {},
   "outputs": [],
   "source": []
  }
 ],
 "metadata": {
  "celltoolbar": "Tags",
  "kernelspec": {
   "display_name": "Python 3",
   "language": "python",
   "name": "python3"
  },
  "language_info": {
   "codemirror_mode": {
    "name": "ipython",
    "version": 3
   },
   "file_extension": ".py",
   "mimetype": "text/x-python",
   "name": "python",
   "nbconvert_exporter": "python",
   "pygments_lexer": "ipython3",
   "version": "3.8.0"
  },
  "toc": {
   "base_numbering": 1,
   "nav_menu": {},
   "number_sections": true,
   "sideBar": true,
   "skip_h1_title": false,
   "title_cell": "Table of Contents",
   "title_sidebar": "Contents",
   "toc_cell": false,
   "toc_position": {},
   "toc_section_display": true,
   "toc_window_display": false
  }
 },
 "nbformat": 4,
 "nbformat_minor": 5
}