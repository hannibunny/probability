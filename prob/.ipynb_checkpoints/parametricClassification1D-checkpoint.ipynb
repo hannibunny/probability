{
 "cells": [
  {
   "cell_type": "markdown",
   "metadata": {},
   "source": [
    "# Parametric Classification\n",
    "\n",
    "In this notebook a parametric classifier for 1-dimensional input data is developed. The task is to predict the category of car, a customers will purchase, if his annual income is known. In the training phase the gaussian distributed likelihood $p(x|C_i)$ and the a-priori $P(C_i)$ for each of the 3 car classes $C_i$ is estimated from a sample of 27 training instances, each containing the annual income and the purchased car of a former customer. The file containing the training data can be ob obtained from [here](./Res/AutoKunden.txt)    "
   ]
  },
  {
   "cell_type": "markdown",
   "metadata": {},
   "source": [
    "Required Python modules:"
   ]
  },
  {
   "cell_type": "code",
   "execution_count": 1,
   "metadata": {
    "ExecuteTime": {
     "end_time": "2017-10-25T19:08:05.397000Z",
     "start_time": "2017-10-25T19:08:05.378000Z"
    }
   },
   "outputs": [],
   "source": [
    "%matplotlib inline\n",
    "import numpy as np\n",
    "import matplotlib.pyplot as plt\n",
    "np.set_printoptions(precision=5,suppress=True)"
   ]
  },
  {
   "cell_type": "markdown",
   "metadata": {},
   "source": [
    "## Access labeled data\n",
    "Read customer data from file. Each row in the file represents one custoner. The first column is the customer ID, the second column is the annual income of the customer and the third column is the class of car he or she bought: \n",
    "\n",
    "* 0 = Low Class\n",
    "* 1 = Middle Class\n",
    "* 2 = Premium Class"
   ]
  },
  {
   "cell_type": "code",
   "execution_count": 2,
   "metadata": {
    "ExecuteTime": {
     "end_time": "2017-10-25T19:08:07.851000Z",
     "start_time": "2017-10-25T19:08:07.827000Z"
    }
   },
   "outputs": [
    {
     "name": "stdout",
     "output_type": "stream",
     "text": [
      "     ID   Income   Car-class\n",
      "[[    1. 77017.     2.]\n",
      " [    2. 69062.     1.]\n",
      " [    3. 16558.     0.]\n",
      " [    4. 88625.     2.]\n",
      " [    5. 93726.     2.]\n",
      " [    6. 66035.     1.]\n",
      " [    7. 72293.     2.]\n",
      " [    8. 14595.     0.]\n",
      " [    9. 36797.     1.]\n",
      " [   10. 65124.     2.]\n",
      " [   11. 15454.     0.]\n",
      " [   12. 21161.     1.]\n",
      " [   13. 56231.     1.]\n",
      " [   14. 44612.     1.]\n",
      " [   15. 31415.     1.]\n",
      " [   16. 26697.     0.]\n",
      " [   17. 23132.     1.]\n",
      " [   18. 17469.     0.]\n",
      " [   19. 64526.     1.]\n",
      " [   20. 17936.     0.]\n",
      " [   21. 33298.     1.]\n",
      " [   22. 25335.     1.]\n",
      " [   23. 67334.     2.]\n",
      " [   24. 20405.     0.]\n",
      " [   25. 28099.     0.]\n",
      " [   26. 37016.     1.]\n",
      " [   27. 81069.     2.]]\n"
     ]
    }
   ],
   "source": [
    "customerArray=np.fromfile(\"./Res/AutoKunden.txt\",sep=' ').reshape(-1,3)\n",
    "print(\"     ID   Income   Car-class\")\n",
    "print(customerArray)\n",
    "Ntot=len(customerArray)"
   ]
  },
  {
   "cell_type": "markdown",
   "metadata": {},
   "source": [
    "The above data shall be applied for training the classifier. The trained model shall then be applied to classify customers, whose annual income is defined in the list below:"
   ]
  },
  {
   "cell_type": "code",
   "execution_count": 3,
   "metadata": {
    "ExecuteTime": {
     "end_time": "2017-10-25T19:08:13.451000Z",
     "start_time": "2017-10-25T19:08:13.446000Z"
    }
   },
   "outputs": [],
   "source": [
    "AnnualIncomeList=[25000,29000,63000,69000] #customers with this annual income shall be classified"
   ]
  },
  {
   "cell_type": "markdown",
   "metadata": {},
   "source": [
    "## Training\n",
    "In the training-phase for each car-class $C_i$ the likelihood-function $p(x|C_i)$ and the a-priori probability $p(C_i)$ must be determined. It is assumed that the likelihoods are gaussian normal distributions. Then for each class the mean and the standard-deviation must be estimated from the given data. These parameters uniquely define the learned model. "
   ]
  },
  {
   "cell_type": "code",
   "execution_count": 4,
   "metadata": {
    "ExecuteTime": {
     "end_time": "2017-10-25T19:08:15.564000Z",
     "start_time": "2017-10-25T19:08:15.002000Z"
    }
   },
   "outputs": [
    {
     "name": "stdout",
     "output_type": "stream",
     "text": [
      "----------------------------------------\n",
      "Learned modell of class 0\n",
      "   A-Priori probability of this class: 0.30 \n",
      "   Estimated mean of this class' likelihood: 19651.62 \n",
      "   Estimated standard deviation of this class' likelihood: 4770.09 \n",
      "----------------------------------------\n",
      "Learned modell of class 1\n",
      "   A-Priori probability of this class: 0.44 \n",
      "   Estimated mean of this class' likelihood: 42385.00 \n",
      "   Estimated standard deviation of this class' likelihood: 16665.05 \n",
      "----------------------------------------\n",
      "Learned modell of class 2\n",
      "   A-Priori probability of this class: 0.26 \n",
      "   Estimated mean of this class' likelihood: 77884.00 \n",
      "   Estimated standard deviation of this class' likelihood: 9875.03 \n"
     ]
    },
    {
     "data": {
      "image/png": "[encoded data removed]",
      "text/plain": [
       "<Figure size 432x288 with 1 Axes>"
      ]
     },
     "metadata": {
      "needs_background": "light"
     },
     "output_type": "display_data"
    }
   ],
   "source": [
    "Aposteriori=[]\n",
    "x=list(range(0,100000,100))\n",
    "for c in range(0,3): #iterate over the 3 classes\n",
    "    print('-'*40)\n",
    "    print('Learned modell of class %d'%c)\n",
    "    A=customerArray[customerArray[:,2]==c] #Filter customers of current class\n",
    "    p=float(len(A))/Ntot # a-priori probability\n",
    "    m=np.mean(A[:,1])    # mean-value\n",
    "    s=np.std(A[:,1])     # standard deviation\n",
    "    print(\"   A-Priori probability of this class: %1.2f \"%p)\n",
    "    print(\"   Estimated mean of this class\\' likelihood: %4.2f \"%m)\n",
    "    print(\"   Estimated standard deviation of this class\\' likelihood: %4.2f \"%s)\n",
    "    \n",
    "    # Likelihood multiplied by a-priori probability\n",
    "    likelihood = 1.0/(s * np.sqrt(2 * np.pi))*np.exp( - (x - m)**2 / (2 * s**2) )\n",
    "    aposterioriMod=p*likelihood\n",
    "    \n",
    "    Aposteriori.append(aposterioriMod)\n",
    "    plt.plot(x,aposterioriMod,label='class '+str(c))\n",
    "plt.grid(True)\n",
    "for AnnualIncome in AnnualIncomeList: #plot vertical lines at the annual incomes for which classification is required\n",
    "    plt.axvline(x=AnnualIncome,color='m',ls='dashed')\n",
    "plt.legend()\n",
    "plt.xlabel(\"Annual Income\")\n",
    "plt.ylabel(\"Probability\")\n",
    "plt.title(\"Likelihood times A-Priori Probability for all 3 classes\")\n",
    "plt.show()"
   ]
  },
  {
   "cell_type": "markdown",
   "metadata": {},
   "source": [
    "## Classification\n",
    "The modified a-posteriori value is the product of likelihood and a-priori probability (modified because the evidence $p(x)$ is ignored). Since we have estimated the models of all 3 classes in the training-phase, we can apply them for predicting the most likely car-class from the annual income of a potential customer: \n",
    "\n",
    "$$\n",
    "p(C_i|x) \\sim  p(x|C_i) \\cdot p(C_i)\n",
    "$$\n",
    "\n",
    "The decision based on this modified a-Posteriori will be the same as the decision based on the real a-Posteriori, since\n",
    "\n",
    "$$\n",
    "C_{pred} = argmax_{C_i}\\left( \\frac{p(x|C_i) \\cdot p(C_i)}{p(x)}\\right) = argmax_{C_i}\\left( p(x|C_i) \\cdot p(C_i)\\right) \n",
    "$$"
   ]
  },
  {
   "cell_type": "markdown",
   "metadata": {},
   "source": [
    "In the code-cell below, customers with incomes of $25.000.-,29000.-,63000.-$ and $69000.-$ Euro are classified by the learned model:"
   ]
  },
  {
   "cell_type": "code",
   "execution_count": 6,
   "metadata": {
    "ExecuteTime": {
     "end_time": "2017-10-25T19:08:21.387000Z",
     "start_time": "2017-10-25T19:08:21.363000Z"
    }
   },
   "outputs": [
    {
     "name": "stdout",
     "output_type": "stream",
     "text": [
      "--------------------\n",
      "Annual Income = 25000.00\n",
      "APosteriori propabilitiy of class 0 = 0.6816\n",
      "APosteriori propabilitiy of class 1 = 0.3184\n",
      "APosteriori propabilitiy of class 2 = 0.0000\n",
      "Most probable class for customer with income 25000.00 Euro is 0 \n",
      "--------------------\n",
      "Annual Income = 29000.00\n",
      "APosteriori propabilitiy of class 0 = 0.3203\n",
      "APosteriori propabilitiy of class 1 = 0.6797\n",
      "APosteriori propabilitiy of class 2 = 0.0000\n",
      "Most probable class for customer with income 29000.00 Euro is 1 \n",
      "--------------------\n",
      "Annual Income = 63000.00\n",
      "APosteriori propabilitiy of class 0 = 0.0000\n",
      "APosteriori propabilitiy of class 1 = 0.5954\n",
      "APosteriori propabilitiy of class 2 = 0.4046\n",
      "Most probable class for customer with income 63000.00 Euro is 1 \n",
      "--------------------\n",
      "Annual Income = 69000.00\n",
      "APosteriori propabilitiy of class 0 = 0.0000\n",
      "APosteriori propabilitiy of class 1 = 0.2984\n",
      "APosteriori propabilitiy of class 2 = 0.7016\n",
      "Most probable class for customer with income 69000.00 Euro is 2 \n"
     ]
    }
   ],
   "source": [
    "for AnnualIncome in AnnualIncomeList:\n",
    "    print('-'*20)\n",
    "    print(\"Annual Income = %7.2f\"%AnnualIncome)\n",
    "    i=int(round(AnnualIncome/100))\n",
    "    proVal=[x[i] for x in Aposteriori]\n",
    "    sumProbs=np.sum(proVal)\n",
    "    for i,p in enumerate(proVal):\n",
    "        print('APosteriori propabilitiy of class %d = %1.4f'% (i,p/sumProbs))\n",
    "    print('Most probable class for customer with income %5.2f Euro is %d '% (AnnualIncome,np.argmax(np.array(proVal))))"
   ]
  },
  {
   "cell_type": "markdown",
   "metadata": {},
   "source": [
    "## Bayesian Classification with Scikit-Learn\n",
    "For Bayesian Classification Scikit-Learn provides Naive Bayes Classifiers for Gaussian-, Bernoulli- and Multinomial distributed data. In the example above 1-dimensional Gaussian distributed input-data has been applied. In this case the Scikit-Learn Naive Bayes Classifier for Gaussian-distributed data, `GaussianNB` learns the same model as the classifier implemented in the previous sections of this notebook. This is demonstrated in the following code-cells:"
   ]
  },
  {
   "cell_type": "code",
   "execution_count": 7,
   "metadata": {
    "ExecuteTime": {
     "end_time": "2017-10-25T19:08:26.005000Z",
     "start_time": "2017-10-25T19:08:26Z"
    }
   },
   "outputs": [],
   "source": [
    "from sklearn.naive_bayes import GaussianNB"
   ]
  },
  {
   "cell_type": "code",
   "execution_count": 8,
   "metadata": {
    "ExecuteTime": {
     "end_time": "2017-10-25T19:08:26.962000Z",
     "start_time": "2017-10-25T19:08:26.958000Z"
    }
   },
   "outputs": [],
   "source": [
    "Income = np.atleast_2d(customerArray[:,1]).T\n",
    "labels = customerArray[:,2]"
   ]
  },
  {
   "cell_type": "markdown",
   "metadata": {},
   "source": [
    "### Train the Naive Bayes Classifier:"
   ]
  },
  {
   "cell_type": "code",
   "execution_count": 9,
   "metadata": {
    "ExecuteTime": {
     "end_time": "2017-10-25T19:08:30.599000Z",
     "start_time": "2017-10-25T19:08:30.588000Z"
    }
   },
   "outputs": [
    {
     "data": {
      "text/plain": [
       "GaussianNB(priors=None)"
      ]
     },
     "execution_count": 9,
     "metadata": {},
     "output_type": "execute_result"
    }
   ],
   "source": [
    "clf=GaussianNB()\n",
    "clf.fit(Income,labels)"
   ]
  },
  {
   "cell_type": "markdown",
   "metadata": {},
   "source": [
    "The parameters mean and standarddeviation of the learned likelihoods are:"
   ]
  },
  {
   "cell_type": "code",
   "execution_count": 10,
   "metadata": {
    "ExecuteTime": {
     "end_time": "2017-10-25T19:08:33.088000Z",
     "start_time": "2017-10-25T19:08:33.079000Z"
    }
   },
   "outputs": [
    {
     "name": "stdout",
     "output_type": "stream",
     "text": [
      "Learned mean values for each of the 3 classes: \n",
      " [[19651.625]\n",
      " [42385.   ]\n",
      " [77884.   ]]\n",
      "Learned standard deviations for each of the 3 classes: \n",
      " [[ 4770.09278]\n",
      " [16665.04581]\n",
      " [ 9875.02871]]\n"
     ]
    }
   ],
   "source": [
    "print(\"Learned mean values for each of the 3 classes: \\n\",clf.theta_)\n",
    "print(\"Learned standard deviations for each of the 3 classes: \\n\",np.sqrt(clf.sigma_))"
   ]
  },
  {
   "cell_type": "markdown",
   "metadata": {},
   "source": [
    "### Use the trained model for predictions"
   ]
  },
  {
   "cell_type": "code",
   "execution_count": 11,
   "metadata": {
    "ExecuteTime": {
     "end_time": "2017-10-25T19:08:37.348000Z",
     "start_time": "2017-10-25T19:08:37.336000Z"
    }
   },
   "outputs": [
    {
     "name": "stdout",
     "output_type": "stream",
     "text": [
      "Most probable class for annual income of   25000.-Euro is  0\n",
      "Most probable class for annual income of   29000.-Euro is  1\n",
      "Most probable class for annual income of   63000.-Euro is  1\n",
      "Most probable class for annual income of   69000.-Euro is  2\n"
     ]
    }
   ],
   "source": [
    "Income=np.atleast_2d(AnnualIncomeList).T\n",
    "predictions=clf.predict(Income)\n",
    "for inc,pre in zip(AnnualIncomeList,predictions):\n",
    "    print(\"Most probable class for annual income of %7d.-Euro is %2d\"%(inc,pre))"
   ]
  },
  {
   "cell_type": "markdown",
   "metadata": {},
   "source": [
    "The `predict(input)`-method returns the estimated class for the given input. If the a-posteriori probability $P(C_i|\\mathbf{x})$ is of interest, the `predict_proba(input)`-method can be applied:"
   ]
  },
  {
   "cell_type": "code",
   "execution_count": 12,
   "metadata": {
    "ExecuteTime": {
     "end_time": "2017-10-25T19:08:40.840000Z",
     "start_time": "2017-10-25T19:08:40.818000Z"
    }
   },
   "outputs": [
    {
     "name": "stdout",
     "output_type": "stream",
     "text": [
      "A-Posteriori for class 0: 0.682 ; class 1: 0.318 ; class 3 0.000 for user with income   25000\n",
      "A-Posteriori for class 0: 0.320 ; class 1: 0.680 ; class 3 0.000 for user with income   29000\n",
      "A-Posteriori for class 0: 0.000 ; class 1: 0.595 ; class 3 0.405 for user with income   63000\n",
      "A-Posteriori for class 0: 0.000 ; class 1: 0.298 ; class 3 0.702 for user with income   69000\n"
     ]
    }
   ],
   "source": [
    "predictionsProb=clf.predict_proba(Income)\n",
    "for i,inc in enumerate(AnnualIncomeList):\n",
    "    print(\"A-Posteriori for class 0: %1.3f ; class 1: %1.3f ; class 3 %1.3f for user with income %7d\"%(predictionsProb[i,0], predictionsProb[i,1],predictionsProb[i,2],inc))"
   ]
  },
  {
   "cell_type": "markdown",
   "metadata": {},
   "source": [
    "### Model Accuracy on training data"
   ]
  },
  {
   "cell_type": "code",
   "execution_count": 13,
   "metadata": {
    "ExecuteTime": {
     "end_time": "2017-10-25T19:08:44.170000Z",
     "start_time": "2017-10-25T19:08:44.164000Z"
    }
   },
   "outputs": [],
   "source": [
    "Income=np.atleast_2d(customerArray[:,1]).T\n",
    "predictions=clf.predict(Income)"
   ]
  },
  {
   "cell_type": "code",
   "execution_count": 15,
   "metadata": {
    "ExecuteTime": {
     "end_time": "2017-10-25T19:08:44.998000Z",
     "start_time": "2017-10-25T19:08:44.991000Z"
    },
    "scrolled": true
   },
   "outputs": [
    {
     "name": "stdout",
     "output_type": "stream",
     "text": [
      "[ True False  True  True  True False  True  True  True  True  True False\n",
      "  True  True  True  True False  True  True  True  True False  True  True\n",
      " False  True  True]\n"
     ]
    }
   ],
   "source": [
    "correctClassification=predictions==labels\n",
    "print(correctClassification)"
   ]
  },
  {
   "cell_type": "code",
   "execution_count": 16,
   "metadata": {
    "ExecuteTime": {
     "end_time": "2017-10-25T19:08:46.949000Z",
     "start_time": "2017-10-25T19:08:46.943000Z"
    }
   },
   "outputs": [],
   "source": [
    "numCorrect=np.sum(correctClassification)"
   ]
  },
  {
   "cell_type": "code",
   "execution_count": 17,
   "metadata": {
    "ExecuteTime": {
     "end_time": "2017-10-25T19:08:49.122000Z",
     "start_time": "2017-10-25T19:08:49.114000Z"
    }
   },
   "outputs": [
    {
     "name": "stdout",
     "output_type": "stream",
     "text": [
      "Accuracy on training data is: 0.778\n"
     ]
    }
   ],
   "source": [
    "accuracyTrain=float(numCorrect)/Ntot\n",
    "print(\"Accuracy on training data is: %1.3f\"%accuracyTrain)"
   ]
  },
  {
   "cell_type": "code",
   "execution_count": 18,
   "metadata": {
    "ExecuteTime": {
     "end_time": "2017-10-25T19:08:49.951000Z",
     "start_time": "2017-10-25T19:08:49.940000Z"
    }
   },
   "outputs": [
    {
     "data": {
      "text/plain": [
       "array([[7, 1, 0],\n",
       "       [3, 7, 2],\n",
       "       [0, 0, 7]])"
      ]
     },
     "execution_count": 18,
     "metadata": {},
     "output_type": "execute_result"
    }
   ],
   "source": [
    "from sklearn.metrics import confusion_matrix\n",
    "confusion_matrix(y_true=labels,y_pred=predictions)"
   ]
  },
  {
   "cell_type": "markdown",
   "metadata": {},
   "source": [
    "In the confusion matrix the entry $C_{i,j}$ in row $i$, column $j$ is the number of instances, which are known to be in class $i$, but predicted to class $j$. For example the confusion matrix above indicates, that 3 elements of true class $1$ have been predicted as class $0$-instances.   "
   ]
  },
  {
   "cell_type": "markdown",
   "metadata": {},
   "source": [
    "### Cross Validation\n",
    "The accuracy on training data should not be applied for model evaluation. Instead a model should be evaluated by determining the accuracy (or other performance figures) on data, which has not been applied for training. Since we have only few labeled data in this example cross-validation is applied for determining the model's accuracy:"
   ]
  },
  {
   "cell_type": "code",
   "execution_count": 20,
   "metadata": {
    "ExecuteTime": {
     "end_time": "2017-10-25T19:08:54.030000Z",
     "start_time": "2017-10-25T19:08:54.008000Z"
    }
   },
   "outputs": [
    {
     "name": "stdout",
     "output_type": "stream",
     "text": [
      "[0.7     0.77778 0.75   ]\n"
     ]
    }
   ],
   "source": [
    "from sklearn.model_selection import cross_val_score\n",
    "clf=GaussianNB()\n",
    "print(cross_val_score(clf,Income,labels))"
   ]
  },
  {
   "cell_type": "markdown",
   "metadata": {},
   "source": [
    "### Naive Bayes Classifier for Multidimensional data\n",
    "In the playground-example above the input-features where only one dimensional: The only input feature has been the annual income of a customer. The 1-dimensional case is quite unusual in practice. In the code-cell below a Naive Bayes Classifier is evaluated for multidimensional data. This is just to demonstrate that the same process as applied above for the simple dataset, can also be applied for arbitrary complex datasets.\n",
    "\n",
    "We apply the [wine dataset](./Res/wine.data). This dataset is described [here](./Res/wine.names.txt). Actually it is also relatively small, but it contains multidimensional data. \n",
    "\n",
    "\n",
    "In the dataset the results of a chemical analysis of wines grown in the same region in Italy but derived from three different cultivars. The analysis determined the quantities of 13 constituents found in each of the three types of wines. The task is to predict the wine-type (first column of the dataset) from the 13 features, that have been obtained in the chemical analysis."
   ]
  },
  {
   "cell_type": "code",
   "execution_count": 21,
   "metadata": {
    "ExecuteTime": {
     "end_time": "2017-10-25T19:08:57.693000Z",
     "start_time": "2017-10-25T19:08:57.663000Z"
    },
    "scrolled": true
   },
   "outputs": [],
   "source": [
    "wineData=np.loadtxt(\"./Res/wine.data\",delimiter=\",\")"
   ]
  },
  {
   "cell_type": "code",
   "execution_count": 22,
   "metadata": {
    "ExecuteTime": {
     "end_time": "2017-10-25T19:08:58.554000Z",
     "start_time": "2017-10-25T19:08:58.547000Z"
    }
   },
   "outputs": [
    {
     "name": "stdout",
     "output_type": "stream",
     "text": [
      "(178, 14)\n"
     ]
    }
   ],
   "source": [
    "print(wineData.shape)"
   ]
  },
  {
   "cell_type": "code",
   "execution_count": 23,
   "metadata": {
    "ExecuteTime": {
     "end_time": "2017-10-25T19:08:59.725000Z",
     "start_time": "2017-10-25T19:08:59.715000Z"
    }
   },
   "outputs": [
    {
     "name": "stdout",
     "output_type": "stream",
     "text": [
      "[[   1.     14.23    1.71    2.43   15.6   127.      2.8     3.06    0.28\n",
      "     2.29    5.64    1.04    3.92 1065.  ]\n",
      " [   1.     13.2     1.78    2.14   11.2   100.      2.65    2.76    0.26\n",
      "     1.28    4.38    1.05    3.4  1050.  ]]\n"
     ]
    }
   ],
   "source": [
    "print(wineData[:2,:])"
   ]
  },
  {
   "cell_type": "code",
   "execution_count": 24,
   "metadata": {
    "ExecuteTime": {
     "end_time": "2017-10-25T19:09:02.356000Z",
     "start_time": "2017-10-25T19:09:02.351000Z"
    }
   },
   "outputs": [],
   "source": [
    "features=wineData[:,1:]\n",
    "labels=wineData[:,0]"
   ]
  },
  {
   "cell_type": "code",
   "execution_count": 25,
   "metadata": {
    "ExecuteTime": {
     "end_time": "2017-10-25T19:09:03.207000Z",
     "start_time": "2017-10-25T19:09:03.168000Z"
    }
   },
   "outputs": [
    {
     "name": "stdout",
     "output_type": "stream",
     "text": [
      "[0.89189 0.97222 0.97222 0.94286 1.     ]\n"
     ]
    }
   ],
   "source": [
    "clf=GaussianNB()\n",
    "print(cross_val_score(clf,features,labels,cv=5))"
   ]
  },
  {
   "cell_type": "code",
   "execution_count": null,
   "metadata": {
    "collapsed": true
   },
   "outputs": [],
   "source": []
  }
 ],
 "metadata": {
  "kernelspec": {
   "display_name": "Python 3",
   "language": "python",
   "name": "python3"
  },
  "language_info": {
   "codemirror_mode": {
    "name": "ipython",
    "version": 3
   },
   "file_extension": ".py",
   "mimetype": "text/x-python",
   "name": "python",
   "nbconvert_exporter": "python",
   "pygments_lexer": "ipython3",
   "version": "3.8.0"
  },
  "nav_menu": {},
  "toc": {
   "base_numbering": 1,
   "nav_menu": {},
   "number_sections": true,
   "sideBar": true,
   "skip_h1_title": false,
   "title_cell": "Table of Contents",
   "title_sidebar": "Contents",
   "toc_cell": false,
   "toc_position": {},
   "toc_section_display": "block",
   "toc_window_display": false
  },
  "toc_position": {
   "height": "485px",
   "left": "0px",
   "right": "1068px",
   "top": "125px",
   "width": "212px"
  }
 },
 "nbformat": 4,
 "nbformat_minor": 1
}
